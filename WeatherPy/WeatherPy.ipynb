{
 "cells": [
  {
   "cell_type": "markdown",
   "metadata": {},
   "source": [
    "## Observable trends for weather as we approach the equator:\n",
    "\n",
    "1) Temperature: The biggest correlation is between lower latitudes and lower temperatures in the Southern hemisphere. A strong correlation still occurs with temperatures in the Northern hemisphere, however here the highest temperatures are around 20° latitude.\n",
    "\n",
    "2) Humidity: Global humidity levels are clustered above 60%. This could be misleading based on the data available, as we used information for cities (and specifically those above 500 population). The methodology of seeking cities based on randomised co-ordinates means that a large number of those initial co-ordinates would correspond to a location in the ocean and then be associated with the nearest city, hence a large number of coastal cities could skew the data to include more humid coastal places.\n",
    "\n",
    "3) Weaker correlations: There were only weak correlations for winds speeds, cloudiness and humidity relative to latitude, across both hemispheres.\n",
    "\n"
   ]
  },
  {
   "cell_type": "code",
   "execution_count": 2,
   "metadata": {},
   "outputs": [],
   "source": [
    "#Dependencies and Setup\n",
    "\n",
    "import pandas as pd\n",
    "import matplotlib.pyplot as plt\n",
    "from citipy import citipy\n",
    "import requests\n",
    "import random\n",
    "import scipy.stats as st\n",
    "\n",
    "# API keys\n",
    "from config import weather_key\n"
   ]
  },
  {
   "cell_type": "markdown",
   "metadata": {},
   "source": [
    "#COLLECTING THE DATA"
   ]
  },
  {
   "cell_type": "code",
   "execution_count": 2,
   "metadata": {},
   "outputs": [
    {
     "name": "stdout",
     "output_type": "stream",
     "text": [
      "659\n"
     ]
    }
   ],
   "source": [
    "city_list = []\n",
    "for i in range(1600): #1600 gives ~600\n",
    "    random_latitude = round(random.uniform(-90, 90), 6)\n",
    "    random_longitude = round(random.uniform(-180, 180), 6)\n",
    "    city = citipy.nearest_city(random_latitude, random_longitude).city_name\n",
    "    if city not in city_list:\n",
    "        city_list.append(city)\n",
    "print(len(city_list))"
   ]
  },
  {
   "cell_type": "code",
   "execution_count": 3,
   "metadata": {},
   "outputs": [
    {
     "name": "stdout",
     "output_type": "stream",
     "text": [
      "City no 1: = asau. Saving city data.\n",
      "City no 2: = karakendzha. Saving city data.\n",
      "Error. Unable to locate that city.\n",
      "City no 2: = albany. Saving city data.\n",
      "City no 3: = santa rosa. Saving city data.\n",
      "City no 4: = dikson. Saving city data.\n",
      "City no 5: = nieuw amsterdam. Saving city data.\n",
      "City no 6: = hermanus. Saving city data.\n",
      "City no 7: = punta arenas. Saving city data.\n",
      "City no 8: = ribeira grande. Saving city data.\n",
      "City no 9: = grafenau. Saving city data.\n",
      "City no 10: = yatou. Saving city data.\n",
      "City no 11: = nargana. Saving city data.\n",
      "City no 12: = matrei. Saving city data.\n",
      "Error. Unable to locate that city.\n",
      "City no 12: = victoria. Saving city data.\n",
      "City no 13: = haines junction. Saving city data.\n",
      "City no 14: = jamestown. Saving city data.\n",
      "City no 15: = rio gallegos. Saving city data.\n",
      "City no 16: = kysyl-syr. Saving city data.\n",
      "City no 17: = gamba. Saving city data.\n",
      "City no 18: = tiksi. Saving city data.\n",
      "City no 19: = puerto del rosario. Saving city data.\n",
      "City no 20: = killarney. Saving city data.\n",
      "City no 21: = fort nelson. Saving city data.\n",
      "City no 22: = chokurdakh. Saving city data.\n",
      "City no 23: = grand river south east. Saving city data.\n",
      "Error. Unable to locate that city.\n",
      "City no 23: = tasiilaq. Saving city data.\n",
      "City no 24: = gandu. Saving city data.\n",
      "City no 25: = ushuaia. Saving city data.\n",
      "City no 26: = mys shmidta. Saving city data.\n",
      "Error. Unable to locate that city.\n",
      "City no 26: = maniitsoq. Saving city data.\n",
      "City no 27: = port alfred. Saving city data.\n",
      "City no 28: = puerto ayora. Saving city data.\n",
      "City no 29: = pierre. Saving city data.\n",
      "City no 30: = hobart. Saving city data.\n",
      "City no 31: = vaitupu. Saving city data.\n",
      "Error. Unable to locate that city.\n",
      "City no 31: = esso. Saving city data.\n",
      "City no 32: = gizo. Saving city data.\n",
      "City no 33: = port elizabeth. Saving city data.\n",
      "City no 34: = barrow. Saving city data.\n",
      "City no 35: = kruisfontein. Saving city data.\n",
      "City no 36: = nikolskoye. Saving city data.\n",
      "City no 37: = mahebourg. Saving city data.\n",
      "City no 38: = kodiak. Saving city data.\n",
      "City no 39: = setubal. Saving city data.\n",
      "City no 40: = sentyabrskiy. Saving city data.\n",
      "Error. Unable to locate that city.\n",
      "City no 40: = igrim. Saving city data.\n",
      "City no 41: = nemuro. Saving city data.\n",
      "City no 42: = portland. Saving city data.\n",
      "City no 43: = narsaq. Saving city data.\n",
      "City no 44: = bolungarvik. Saving city data.\n",
      "Error. Unable to locate that city.\n",
      "City no 44: = east london. Saving city data.\n",
      "City no 45: = taolanaro. Saving city data.\n",
      "Error. Unable to locate that city.\n",
      "City no 45: = attawapiskat. Saving city data.\n",
      "Error. Unable to locate that city.\n",
      "City no 45: = bredasdorp. Saving city data.\n",
      "City no 46: = rikitea. Saving city data.\n",
      "City no 47: = salou. Saving city data.\n",
      "City no 48: = maragogi. Saving city data.\n",
      "City no 49: = palabuhanratu. Saving city data.\n",
      "Error. Unable to locate that city.\n",
      "City no 49: = puerto suarez. Saving city data.\n",
      "City no 50: = coihaique. Saving city data.\n",
      "City no 51: = tondano. Saving city data.\n",
      "City no 52: = nizhniy baskunchak. Saving city data.\n",
      "City no 53: = mezen. Saving city data.\n",
      "City no 54: = charters towers. Saving city data.\n",
      "City no 55: = taoudenni. Saving city data.\n",
      "City no 56: = dire. Saving city data.\n",
      "City no 57: = buala. Saving city data.\n",
      "City no 58: = dingle. Saving city data.\n",
      "City no 59: = guerrero negro. Saving city data.\n",
      "City no 60: = new norfolk. Saving city data.\n",
      "City no 61: = cidreira. Saving city data.\n",
      "City no 62: = morros. Saving city data.\n",
      "City no 63: = tuktoyaktuk. Saving city data.\n",
      "City no 64: = saldanha. Saving city data.\n",
      "City no 65: = boddam. Saving city data.\n",
      "City no 66: = vaini. Saving city data.\n",
      "City no 67: = hasaki. Saving city data.\n",
      "City no 68: = sankt johann im pongau. Saving city data.\n",
      "City no 69: = barentsburg. Saving city data.\n",
      "Error. Unable to locate that city.\n",
      "City no 69: = anloga. Saving city data.\n",
      "City no 70: = dicabisagan. Saving city data.\n",
      "City no 71: = chuy. Saving city data.\n",
      "City no 72: = avarua. Saving city data.\n",
      "City no 73: = kapaa. Saving city data.\n",
      "City no 74: = belushya guba. Saving city data.\n",
      "Error. Unable to locate that city.\n",
      "City no 74: = arraial do cabo. Saving city data.\n",
      "City no 75: = thompson. Saving city data.\n",
      "City no 76: = coquimbo. Saving city data.\n",
      "City no 77: = leningradskiy. Saving city data.\n",
      "City no 78: = ust-kuyga. Saving city data.\n",
      "City no 79: = busselton. Saving city data.\n",
      "City no 80: = khorixas. Saving city data.\n",
      "City no 81: = lowestoft. Saving city data.\n",
      "City no 82: = kuche. Saving city data.\n",
      "Error. Unable to locate that city.\n",
      "City no 82: = gazanjyk. Saving city data.\n",
      "City no 83: = lagoa. Saving city data.\n",
      "City no 84: = teguldet. Saving city data.\n",
      "City no 85: = mandera. Saving city data.\n",
      "City no 86: = faya. Saving city data.\n",
      "City no 87: = petersburg. Saving city data.\n",
      "City no 88: = ponta do sol. Saving city data.\n",
      "City no 89: = sakakah. Saving city data.\n",
      "City no 90: = severo-kurilsk. Saving city data.\n",
      "City no 91: = sabzevar. Saving city data.\n",
      "City no 92: = illoqqortoormiut. Saving city data.\n",
      "Error. Unable to locate that city.\n",
      "City no 92: = mataura. Saving city data.\n",
      "City no 93: = borama. Saving city data.\n",
      "Error. Unable to locate that city.\n",
      "City no 93: = tagusao. Saving city data.\n",
      "City no 94: = atuona. Saving city data.\n",
      "City no 95: = jinchengjiang. Saving city data.\n",
      "Error. Unable to locate that city.\n",
      "City no 95: = ermelo. Saving city data.\n",
      "City no 96: = cape town. Saving city data.\n",
      "City no 97: = egvekinot. Saving city data.\n",
      "City no 98: = bilibino. Saving city data.\n",
      "City no 99: = zhitnevo. Saving city data.\n",
      "City no 100: = tornio. Saving city data.\n",
      "City no 101: = puerto baquerizo moreno. Saving city data.\n",
      "City no 102: = sur. Saving city data.\n",
      "City no 103: = pangnirtung. Saving city data.\n",
      "City no 104: = blonduos. Saving city data.\n",
      "Error. Unable to locate that city.\n",
      "City no 104: = butaritari. Saving city data.\n",
      "City no 105: = tsihombe. Saving city data.\n",
      "Error. Unable to locate that city.\n",
      "City no 105: = arawa. Saving city data.\n",
      "City no 106: = samusu. Saving city data.\n",
      "Error. Unable to locate that city.\n",
      "City no 106: = yacuiba. Saving city data.\n",
      "City no 107: = ancud. Saving city data.\n",
      "City no 108: = khatanga. Saving city data.\n",
      "City no 109: = bluff. Saving city data.\n",
      "City no 110: = saskylakh. Saving city data.\n",
      "City no 111: = san quintin. Saving city data.\n",
      "City no 112: = camacha. Saving city data.\n",
      "City no 113: = uige. Saving city data.\n",
      "City no 114: = qaanaaq. Saving city data.\n",
      "City no 115: = kaohsiung. Saving city data.\n",
      "City no 116: = hilo. Saving city data.\n",
      "City no 117: = karratha. Saving city data.\n",
      "City no 118: = yermakovskoye. Saving city data.\n",
      "City no 119: = georgetown. Saving city data.\n",
      "City no 120: = port-cartier. Saving city data.\n",
      "City no 121: = sena madureira. Saving city data.\n",
      "City no 122: = hudson bay. Saving city data.\n",
      "City no 123: = iquitos. Saving city data.\n",
      "City no 124: = guarapari. Saving city data.\n",
      "City no 125: = dryden. Saving city data.\n",
      "City no 126: = bambous virieux. Saving city data.\n",
      "City no 127: = noumea. Saving city data.\n",
      "City no 128: = san jose. Saving city data.\n",
      "City no 129: = port macquarie. Saving city data.\n",
      "City no 130: = grand gaube. Saving city data.\n",
      "City no 131: = nioro. Saving city data.\n",
      "City no 132: = saint-philippe. Saving city data.\n",
      "City no 133: = rovaniemi. Saving city data.\n",
      "City no 134: = galle. Saving city data.\n",
      "City no 135: = kromy. Saving city data.\n",
      "City no 136: = mogoytuy. Saving city data.\n",
      "City no 137: = huarmey. Saving city data.\n",
      "City no 138: = toamasina. Saving city data.\n",
      "City no 139: = marsh harbour. Saving city data.\n",
      "City no 140: = marsa matruh. Saving city data.\n",
      "City no 141: = pisco. Saving city data.\n",
      "City no 142: = buchanan. Saving city data.\n",
      "City no 143: = dakoro. Saving city data.\n",
      "City no 144: = oranjestad. Saving city data.\n",
      "City no 145: = la palma. Saving city data.\n",
      "City no 146: = poum. Saving city data.\n",
      "City no 147: = geraldton. Saving city data.\n",
      "City no 148: = port hardy. Saving city data.\n",
      "City no 149: = harper. Saving city data.\n",
      "City no 150: = cherskiy. Saving city data.\n",
      "City no 151: = kahului. Saving city data.\n",
      "City no 152: = baruun-urt. Saving city data.\n",
      "City no 153: = mount gambier. Saving city data.\n",
      "City no 154: = yellowknife. Saving city data.\n",
      "City no 155: = lebu. Saving city data.\n",
      "City no 156: = aklavik. Saving city data.\n"
     ]
    },
    {
     "name": "stdout",
     "output_type": "stream",
     "text": [
      "City no 157: = madarounfa. Saving city data.\n",
      "City no 158: = flinders. Saving city data.\n",
      "City no 159: = hithadhoo. Saving city data.\n",
      "City no 160: = kiama. Saving city data.\n",
      "City no 161: = bur gabo. Saving city data.\n",
      "Error. Unable to locate that city.\n",
      "City no 161: = atar. Saving city data.\n",
      "City no 162: = krasnoselkup. Saving city data.\n",
      "City no 163: = saint-georges. Saving city data.\n",
      "City no 164: = aketi. Saving city data.\n",
      "City no 165: = lerwick. Saving city data.\n",
      "City no 166: = mar del plata. Saving city data.\n",
      "City no 167: = torbay. Saving city data.\n",
      "City no 168: = pereslavl-zalesskiy. Saving city data.\n",
      "City no 169: = nome. Saving city data.\n",
      "City no 170: = halvad. Saving city data.\n",
      "City no 171: = kavieng. Saving city data.\n",
      "City no 172: = amderma. Saving city data.\n",
      "Error. Unable to locate that city.\n",
      "City no 172: = boquira. Saving city data.\n",
      "City no 173: = chama. Saving city data.\n",
      "City no 174: = strezhevoy. Saving city data.\n",
      "City no 175: = magaria. Saving city data.\n",
      "City no 176: = talnakh. Saving city data.\n",
      "City no 177: = vilyuysk. Saving city data.\n",
      "City no 178: = beringovskiy. Saving city data.\n",
      "City no 179: = sembe. Saving city data.\n",
      "City no 180: = itoman. Saving city data.\n",
      "City no 181: = danane. Saving city data.\n",
      "City no 182: = magadi. Saving city data.\n",
      "City no 183: = kamenskoye. Saving city data.\n",
      "Error. Unable to locate that city.\n",
      "City no 183: = shelburne. Saving city data.\n",
      "City no 184: = airai. Saving city data.\n",
      "City no 185: = vondrozo. Saving city data.\n",
      "City no 186: = kaitangata. Saving city data.\n",
      "City no 187: = ashta. Saving city data.\n",
      "City no 188: = saint george. Saving city data.\n",
      "City no 189: = macau. Saving city data.\n",
      "City no 190: = santander. Saving city data.\n",
      "City no 191: = kingisepp. Saving city data.\n",
      "City no 192: = farafangana. Saving city data.\n",
      "City no 193: = clyde river. Saving city data.\n",
      "City no 194: = cockburn town. Saving city data.\n",
      "City no 195: = kawalu. Saving city data.\n",
      "City no 196: = samarai. Saving city data.\n",
      "City no 197: = carnarvon. Saving city data.\n",
      "City no 198: = awjilah. Saving city data.\n",
      "City no 199: = nizhneyansk. Saving city data.\n",
      "Error. Unable to locate that city.\n",
      "City no 199: = norman wells. Saving city data.\n",
      "City no 200: = tuatapere. Saving city data.\n",
      "City no 201: = hami. Saving city data.\n",
      "City no 202: = port hedland. Saving city data.\n",
      "City no 203: = tarakan. Saving city data.\n",
      "City no 204: = phangnga. Saving city data.\n",
      "City no 205: = klaksvik. Saving city data.\n",
      "City no 206: = iqaluit. Saving city data.\n",
      "City no 207: = erenhot. Saving city data.\n",
      "City no 208: = esperance. Saving city data.\n",
      "City no 209: = chhatapur. Saving city data.\n",
      "City no 210: = karasjok. Saving city data.\n",
      "City no 211: = longyearbyen. Saving city data.\n",
      "City no 212: = halifax. Saving city data.\n",
      "City no 213: = kalianget. Saving city data.\n",
      "City no 214: = elat. Saving city data.\n",
      "City no 215: = souillac. Saving city data.\n",
      "City no 216: = marcona. Saving city data.\n",
      "Error. Unable to locate that city.\n",
      "City no 216: = sungai siput utara. Saving city data.\n",
      "Error. Unable to locate that city.\n",
      "City no 216: = qaqortoq. Saving city data.\n",
      "City no 217: = broken hill. Saving city data.\n",
      "City no 218: = andenes. Saving city data.\n",
      "City no 219: = quarai. Saving city data.\n",
      "City no 220: = alice springs. Saving city data.\n",
      "City no 221: = luderitz. Saving city data.\n",
      "City no 222: = west wendover. Saving city data.\n",
      "City no 223: = aswan. Saving city data.\n",
      "City no 224: = nobeoka. Saving city data.\n",
      "City no 225: = le port. Saving city data.\n",
      "City no 226: = nanortalik. Saving city data.\n",
      "City no 227: = wolfenbuttel. Saving city data.\n",
      "City no 228: = jomalig. Saving city data.\n",
      "Error. Unable to locate that city.\n",
      "City no 228: = olafsvik. Saving city data.\n",
      "City no 229: = cascais. Saving city data.\n",
      "City no 230: = barcelos. Saving city data.\n",
      "City no 231: = hamilton. Saving city data.\n",
      "City no 232: = lermontovka. Saving city data.\n",
      "City no 233: = provideniya. Saving city data.\n",
      "City no 234: = prince george. Saving city data.\n",
      "City no 235: = impfondo. Saving city data.\n",
      "City no 236: = bandarbeyla. Saving city data.\n",
      "City no 237: = aykhal. Saving city data.\n",
      "City no 238: = progreso. Saving city data.\n",
      "City no 239: = cabo san lucas. Saving city data.\n",
      "City no 240: = pindiga. Saving city data.\n",
      "City no 241: = namatanai. Saving city data.\n",
      "City no 242: = terrace. Saving city data.\n",
      "City no 243: = levokumskoye. Saving city data.\n",
      "City no 244: = bhindar. Saving city data.\n",
      "City no 245: = soe. Saving city data.\n",
      "City no 246: = pudozh. Saving city data.\n",
      "City no 247: = berbera. Saving city data.\n",
      "City no 248: = tocopilla. Saving city data.\n",
      "City no 249: = xuanzhou. Saving city data.\n",
      "City no 250: = jiaocheng. Saving city data.\n",
      "City no 251: = vega de alatorre. Saving city data.\n",
      "City no 252: = taltal. Saving city data.\n",
      "City no 253: = faanui. Saving city data.\n",
      "City no 254: = katsuura. Saving city data.\n",
      "City no 255: = antsohihy. Saving city data.\n",
      "City no 256: = inuvik. Saving city data.\n",
      "City no 257: = waipawa. Saving city data.\n",
      "City no 258: = san juan. Saving city data.\n",
      "City no 259: = pevek. Saving city data.\n",
      "City no 260: = muroto. Saving city data.\n",
      "City no 261: = ornskoldsvik. Saving city data.\n",
      "City no 262: = weinan. Saving city data.\n",
      "City no 263: = puerto escondido. Saving city data.\n",
      "City no 264: = mukhen. Saving city data.\n",
      "City no 265: = necochea. Saving city data.\n",
      "City no 266: = isla mujeres. Saving city data.\n",
      "City no 267: = gijon. Saving city data.\n",
      "City no 268: = aripuana. Saving city data.\n",
      "City no 269: = juifang. Saving city data.\n",
      "Error. Unable to locate that city.\n",
      "City no 269: = paita. Saving city data.\n",
      "City no 270: = adrar. Saving city data.\n",
      "City no 271: = port blair. Saving city data.\n",
      "City no 272: = nizhniy bestyakh. Saving city data.\n",
      "City no 273: = bubaque. Saving city data.\n",
      "City no 274: = paamiut. Saving city data.\n",
      "City no 275: = yar-sale. Saving city data.\n",
      "City no 276: = dunayivtsi. Saving city data.\n",
      "Error. Unable to locate that city.\n",
      "City no 276: = stony plain. Saving city data.\n",
      "City no 277: = yenagoa. Saving city data.\n",
      "City no 278: = tezu. Saving city data.\n",
      "City no 279: = mehamn. Saving city data.\n",
      "City no 280: = svetlaya. Saving city data.\n",
      "City no 281: = zhigansk. Saving city data.\n",
      "City no 282: = castro. Saving city data.\n",
      "City no 283: = severobaykalsk. Saving city data.\n",
      "City no 284: = agbor. Saving city data.\n",
      "City no 285: = puerto quijarro. Saving city data.\n",
      "City no 286: = naze. Saving city data.\n",
      "City no 287: = constitucion. Saving city data.\n",
      "City no 288: = fortuna. Saving city data.\n",
      "City no 289: = verkhoyansk. Saving city data.\n",
      "City no 290: = yonibana. Saving city data.\n",
      "City no 291: = fenoarivo. Saving city data.\n",
      "City no 292: = hofn. Saving city data.\n",
      "City no 293: = srednekolymsk. Saving city data.\n",
      "City no 294: = umzimvubu. Saving city data.\n",
      "Error. Unable to locate that city.\n",
      "City no 294: = kyzyl-suu. Saving city data.\n",
      "City no 295: = guangyuan. Saving city data.\n",
      "City no 296: = alofi. Saving city data.\n",
      "City no 297: = kigorobya. Saving city data.\n",
      "City no 298: = providencia. Saving city data.\n",
      "City no 299: = cairns. Saving city data.\n",
      "City no 300: = gravdal. Saving city data.\n",
      "City no 301: = del rio. Saving city data.\n",
      "City no 302: = alyangula. Saving city data.\n",
      "City no 303: = grimshaw. Saving city data.\n",
      "City no 304: = shitanjing. Saving city data.\n",
      "City no 305: = hirara. Saving city data.\n",
      "City no 306: = lagos. Saving city data.\n",
      "City no 307: = yilan. Saving city data.\n",
      "City no 308: = emet. Saving city data.\n",
      "City no 309: = gornopravdinsk. Saving city data.\n",
      "City no 310: = vagay. Saving city data.\n",
      "City no 311: = broome. Saving city data.\n",
      "City no 312: = jumla. Saving city data.\n",
      "City no 313: = aguimes. Saving city data.\n",
      "City no 314: = urusha. Saving city data.\n",
      "City no 315: = tilichiki. Saving city data.\n",
      "City no 316: = gat. Saving city data.\n",
      "City no 317: = harij. Saving city data.\n",
      "City no 318: = college. Saving city data.\n",
      "City no 319: = kidal. Saving city data.\n",
      "City no 320: = rawson. Saving city data.\n",
      "City no 321: = ortakoy. Saving city data.\n",
      "City no 322: = emirdag. Saving city data.\n",
      "City no 323: = sao joao da barra. Saving city data.\n",
      "City no 324: = kaniama. Saving city data.\n",
      "City no 325: = yulara. Saving city data.\n",
      "City no 326: = mandalgovi. Saving city data.\n",
      "City no 327: = play cu. Saving city data.\n",
      "Error. Unable to locate that city.\n",
      "City no 327: = namibe. Saving city data.\n"
     ]
    },
    {
     "name": "stdout",
     "output_type": "stream",
     "text": [
      "City no 328: = borogontsy. Saving city data.\n",
      "City no 329: = baykit. Saving city data.\n",
      "City no 330: = meulaboh. Saving city data.\n",
      "City no 331: = leshan. Saving city data.\n",
      "City no 332: = dekar. Saving city data.\n",
      "City no 333: = pacific grove. Saving city data.\n",
      "City no 334: = abong mbang. Saving city data.\n",
      "City no 335: = aguilas. Saving city data.\n",
      "City no 336: = middelburg. Saving city data.\n",
      "City no 337: = hecelchakan. Saving city data.\n",
      "City no 338: = tucupita. Saving city data.\n",
      "City no 339: = evensk. Saving city data.\n",
      "City no 340: = savannah bight. Saving city data.\n",
      "City no 341: = ampanihy. Saving city data.\n",
      "City no 342: = chamba. Saving city data.\n",
      "City no 343: = san luis de la paz. Saving city data.\n",
      "City no 344: = katangli. Saving city data.\n",
      "City no 345: = turan. Saving city data.\n",
      "City no 346: = rafai. Saving city data.\n",
      "City no 347: = oistins. Saving city data.\n",
      "City no 348: = aflu. Saving city data.\n",
      "Error. Unable to locate that city.\n",
      "City no 348: = coahuayana. Saving city data.\n",
      "City no 349: = warqla. Saving city data.\n",
      "Error. Unable to locate that city.\n",
      "City no 349: = marzuq. Saving city data.\n",
      "City no 350: = ambovombe. Saving city data.\n",
      "City no 351: = cacu. Saving city data.\n",
      "City no 352: = san cristobal. Saving city data.\n",
      "City no 353: = bengkulu. Saving city data.\n",
      "City no 354: = linfen. Saving city data.\n",
      "City no 355: = aksay. Saving city data.\n",
      "City no 356: = te anau. Saving city data.\n",
      "City no 357: = lucapa. Saving city data.\n",
      "City no 358: = dubrovnik. Saving city data.\n",
      "City no 359: = bacolod. Saving city data.\n",
      "City no 360: = jiuquan. Saving city data.\n",
      "City no 361: = comodoro rivadavia. Saving city data.\n",
      "City no 362: = oudtshoorn. Saving city data.\n",
      "City no 363: = grindavik. Saving city data.\n",
      "City no 364: = port moresby. Saving city data.\n",
      "City no 365: = palmer. Saving city data.\n",
      "City no 366: = new glasgow. Saving city data.\n",
      "City no 367: = manta. Saving city data.\n",
      "City no 368: = belmonte. Saving city data.\n",
      "City no 369: = weligama. Saving city data.\n",
      "City no 370: = tuggurt. Saving city data.\n",
      "Error. Unable to locate that city.\n",
      "City no 370: = ayr. Saving city data.\n",
      "City no 371: = constantine. Saving city data.\n",
      "City no 372: = saleaula. Saving city data.\n",
      "Error. Unable to locate that city.\n",
      "City no 372: = bathsheba. Saving city data.\n",
      "City no 373: = leh. Saving city data.\n",
      "City no 374: = ust-ilimsk. Saving city data.\n",
      "City no 375: = romanovka. Saving city data.\n",
      "City no 376: = diamantino. Saving city data.\n",
      "City no 377: = grand haven. Saving city data.\n",
      "City no 378: = red bluff. Saving city data.\n",
      "City no 379: = coroneo. Saving city data.\n",
      "City no 380: = bethel. Saving city data.\n",
      "City no 381: = awbari. Saving city data.\n",
      "City no 382: = tiszasuly. Saving city data.\n",
      "City no 383: = matehuala. Saving city data.\n",
      "City no 384: = mamallapuram. Saving city data.\n",
      "City no 385: = shu. Saving city data.\n",
      "City no 386: = richards bay. Saving city data.\n",
      "City no 387: = merke. Saving city data.\n",
      "City no 388: = camargo. Saving city data.\n",
      "City no 389: = ust-nera. Saving city data.\n",
      "City no 390: = lebanon. Saving city data.\n",
      "City no 391: = libertador general san martin. Saving city data.\n",
      "City no 392: = bilma. Saving city data.\n",
      "City no 393: = lorengau. Saving city data.\n",
      "City no 394: = kununurra. Saving city data.\n",
      "City no 395: = vokhma. Saving city data.\n",
      "City no 396: = atambua. Saving city data.\n",
      "City no 397: = frumusita. Saving city data.\n",
      "City no 398: = novo oriente. Saving city data.\n",
      "City no 399: = labutta. Saving city data.\n",
      "Error. Unable to locate that city.\n",
      "City no 399: = amudat. Saving city data.\n",
      "City no 400: = ararat. Saving city data.\n",
      "City no 401: = la tuque. Saving city data.\n",
      "City no 402: = veraval. Saving city data.\n",
      "City no 403: = cajetina. Saving city data.\n",
      "City no 404: = batagay-alyta. Saving city data.\n",
      "City no 405: = tessalit. Saving city data.\n",
      "City no 406: = ilulissat. Saving city data.\n",
      "City no 407: = weatherford. Saving city data.\n",
      "City no 408: = freeport. Saving city data.\n",
      "City no 409: = bargal. Saving city data.\n",
      "Error. Unable to locate that city.\n",
      "City no 409: = karaul. Saving city data.\n",
      "Error. Unable to locate that city.\n",
      "City no 409: = przhevalskoye. Saving city data.\n",
      "City no 410: = dunedin. Saving city data.\n",
      "City no 411: = banff. Saving city data.\n",
      "City no 412: = monte gordo. Saving city data.\n",
      "City no 413: = wahran. Saving city data.\n",
      "Error. Unable to locate that city.\n",
      "City no 413: = hailey. Saving city data.\n",
      "City no 414: = kabalo. Saving city data.\n",
      "City no 415: = elliot lake. Saving city data.\n",
      "City no 416: = aramaywan. Saving city data.\n",
      "Error. Unable to locate that city.\n",
      "City no 416: = talcahuano. Saving city data.\n",
      "City no 417: = bitkine. Saving city data.\n",
      "City no 418: = arkhangelsk. Saving city data.\n",
      "City no 419: = abu dhabi. Saving city data.\n",
      "City no 420: = solsvik. Saving city data.\n",
      "Error. Unable to locate that city.\n",
      "City no 420: = zhytomyr. Saving city data.\n",
      "City no 421: = tricase. Saving city data.\n",
      "City no 422: = rawah. Saving city data.\n",
      "City no 423: = megion. Saving city data.\n",
      "City no 424: = tres arroyos. Saving city data.\n",
      "City no 425: = saint-pierre. Saving city data.\n",
      "City no 426: = nurota. Saving city data.\n",
      "City no 427: = shimoda. Saving city data.\n",
      "City no 428: = skibbereen. Saving city data.\n",
      "City no 429: = vieux-conde. Saving city data.\n",
      "City no 430: = acapulco. Saving city data.\n",
      "City no 431: = tuyen quang. Saving city data.\n",
      "City no 432: = uyuni. Saving city data.\n",
      "City no 433: = drayton valley. Saving city data.\n",
      "City no 434: = kathu. Saving city data.\n",
      "City no 435: = sambava. Saving city data.\n",
      "City no 436: = isiro. Saving city data.\n",
      "City no 437: = muswellbrook. Saving city data.\n",
      "City no 438: = quirinopolis. Saving city data.\n",
      "City no 439: = ambon. Saving city data.\n",
      "City no 440: = ambodifototra. Saving city data.\n",
      "Error. Unable to locate that city.\n",
      "City no 440: = karaton. Saving city data.\n",
      "City no 441: = dzhusaly. Saving city data.\n",
      "Error. Unable to locate that city.\n",
      "City no 441: = waverley. Saving city data.\n",
      "City no 442: = bayonne. Saving city data.\n",
      "City no 443: = labuhan. Saving city data.\n",
      "City no 444: = bereda. Saving city data.\n",
      "City no 445: = channagiri. Saving city data.\n",
      "City no 446: = padang. Saving city data.\n",
      "City no 447: = turochak. Saving city data.\n",
      "City no 448: = mount isa. Saving city data.\n",
      "City no 449: = alashtar. Saving city data.\n",
      "Error. Unable to locate that city.\n",
      "City no 449: = bac lieu. Saving city data.\n",
      "City no 450: = margate. Saving city data.\n",
      "City no 451: = sulangan. Saving city data.\n",
      "City no 452: = binucayan. Saving city data.\n",
      "City no 453: = nouakchott. Saving city data.\n",
      "City no 454: = arlit. Saving city data.\n",
      "City no 455: = binabalian. Saving city data.\n",
      "City no 456: = avera. Saving city data.\n",
      "City no 457: = kaseda. Saving city data.\n",
      "City no 458: = ostrovnoy. Saving city data.\n",
      "City no 459: = yining. Saving city data.\n",
      "City no 460: = najran. Saving city data.\n",
      "City no 461: = isagarh. Saving city data.\n",
      "City no 462: = lovozero. Saving city data.\n",
      "City no 463: = touros. Saving city data.\n",
      "City no 464: = rochester. Saving city data.\n",
      "City no 465: = pemangkat. Saving city data.\n",
      "City no 466: = tari. Saving city data.\n",
      "City no 467: = gua musang. Saving city data.\n",
      "City no 468: = longlac. Saving city data.\n",
      "Error. Unable to locate that city.\n",
      "City no 468: = itarema. Saving city data.\n",
      "City no 469: = urucara. Saving city data.\n",
      "City no 470: = eyl. Saving city data.\n",
      "City no 471: = pokhara. Saving city data.\n",
      "City no 472: = sandovo. Saving city data.\n",
      "City no 473: = darhan. Saving city data.\n",
      "City no 474: = nalut. Saving city data.\n",
      "City no 475: = albanel. Saving city data.\n",
      "City no 476: = honiara. Saving city data.\n",
      "City no 477: = opuwo. Saving city data.\n",
      "City no 478: = plettenberg bay. Saving city data.\n",
      "City no 479: = waddan. Saving city data.\n",
      "City no 480: = hay river. Saving city data.\n",
      "City no 481: = nichinan. Saving city data.\n",
      "City no 482: = dotnuva. Saving city data.\n",
      "City no 483: = tabiauea. Saving city data.\n",
      "Error. Unable to locate that city.\n",
      "City no 483: = haverfordwest. Saving city data.\n",
      "City no 484: = kashi. Saving city data.\n",
      "City no 485: = camana. Saving city data.\n",
      "City no 486: = ejido. Saving city data.\n",
      "City no 487: = nara. Saving city data.\n",
      "City no 488: = wanning. Saving city data.\n",
      "City no 489: = cafelandia. Saving city data.\n",
      "City no 490: = vila do maio. Saving city data.\n"
     ]
    },
    {
     "name": "stdout",
     "output_type": "stream",
     "text": [
      "City no 491: = okha. Saving city data.\n",
      "City no 492: = cayenne. Saving city data.\n",
      "City no 493: = lolua. Saving city data.\n",
      "Error. Unable to locate that city.\n",
      "City no 493: = kangaatsiaq. Saving city data.\n",
      "City no 494: = dongfeng. Saving city data.\n",
      "City no 495: = isangel. Saving city data.\n",
      "City no 496: = vila franca do campo. Saving city data.\n",
      "City no 497: = belaya gora. Saving city data.\n",
      "City no 498: = west bay. Saving city data.\n",
      "City no 499: = gisborne. Saving city data.\n",
      "City no 500: = cocobeach. Saving city data.\n",
      "City no 501: = mujiayingzi. Saving city data.\n",
      "City no 502: = cheremnoye. Saving city data.\n",
      "City no 503: = payo. Saving city data.\n",
      "City no 504: = talakan. Saving city data.\n",
      "City no 505: = hambantota. Saving city data.\n",
      "City no 506: = bijar. Saving city data.\n",
      "City no 507: = lata. Saving city data.\n",
      "City no 508: = karabulak. Saving city data.\n",
      "City no 509: = vavozh. Saving city data.\n",
      "City no 510: = dzaoudzi. Saving city data.\n",
      "City no 511: = sao lourenco do sul. Saving city data.\n",
      "City no 512: = bilsi. Saving city data.\n",
      "City no 513: = bosaso. Saving city data.\n",
      "City no 514: = christchurch. Saving city data.\n",
      "City no 515: = bama. Saving city data.\n",
      "City no 516: = kimbe. Saving city data.\n",
      "City no 517: = quilpue. Saving city data.\n",
      "City no 518: = sharjah. Saving city data.\n",
      "City no 519: = amazar. Saving city data.\n",
      "City no 520: = lubyany. Saving city data.\n",
      "City no 521: = casabianca. Saving city data.\n",
      "City no 522: = isla vista. Saving city data.\n",
      "City no 523: = bohdan. Saving city data.\n",
      "City no 524: = skjervoy. Saving city data.\n",
      "City no 525: = sahbuz. Saving city data.\n",
      "City no 526: = buqayq. Saving city data.\n",
      "Error. Unable to locate that city.\n",
      "City no 526: = muyezerskiy. Saving city data.\n",
      "City no 527: = severo-yeniseyskiy. Saving city data.\n",
      "City no 528: = safford. Saving city data.\n",
      "City no 529: = zabaykalsk. Saving city data.\n",
      "City no 530: = villamontes. Saving city data.\n",
      "City no 531: = caldwell. Saving city data.\n",
      "City no 532: = linjiang. Saving city data.\n",
      "City no 533: = ola. Saving city data.\n",
      "City no 534: = sorvag. Saving city data.\n",
      "Error. Unable to locate that city.\n",
      "City no 534: = nelson bay. Saving city data.\n",
      "City no 535: = gopalpur. Saving city data.\n",
      "City no 536: = kimberley. Saving city data.\n",
      "City no 537: = northam. Saving city data.\n",
      "City no 538: = havoysund. Saving city data.\n",
      "City no 539: = mareeba. Saving city data.\n",
      "City no 540: = sao filipe. Saving city data.\n",
      "City no 541: = lompoc. Saving city data.\n",
      "City no 542: = waingapu. Saving city data.\n",
      "City no 543: = troitskoye. Saving city data.\n",
      "City no 544: = saint-augustin. Saving city data.\n",
      "City no 545: = sola. Saving city data.\n",
      "City no 546: = kharsia. Saving city data.\n",
      "City no 547: = eureka. Saving city data.\n",
      "City no 548: = sao paulo de olivenca. Saving city data.\n",
      "City no 549: = svencionys. Saving city data.\n",
      "City no 550: = diu. Saving city data.\n",
      "City no 551: = santa cruz de la palma. Saving city data.\n",
      "City no 552: = rybachiy. Saving city data.\n",
      "City no 553: = marsabit. Saving city data.\n",
      "City no 554: = sitka. Saving city data.\n",
      "City no 555: = luwuk. Saving city data.\n",
      "City no 556: = sheltozero. Saving city data.\n",
      "City no 557: = ozinki. Saving city data.\n",
      "City no 558: = hervey bay. Saving city data.\n",
      "City no 559: = kopaganj. Saving city data.\n",
      "City no 560: = busca. Saving city data.\n",
      "City no 561: = pervomaysk. Saving city data.\n",
      "City no 562: = bouar. Saving city data.\n",
      "City no 563: = vydrino. Saving city data.\n",
      "City no 564: = forbes. Saving city data.\n",
      "City no 565: = hvide sande. Saving city data.\n",
      "City no 566: = vieste. Saving city data.\n",
      "City no 567: = zapolyarnyy. Saving city data.\n",
      "City no 568: = ban phaeo. Saving city data.\n",
      "City no 569: = sosnogorsk. Saving city data.\n",
      "City no 570: = kankavli. Saving city data.\n",
      "Error. Unable to locate that city.\n",
      "City no 570: = vestmannaeyjar. Saving city data.\n",
      "City no 571: = southwick. Saving city data.\n",
      "City no 572: = north marysville. Saving city data.\n",
      "Error. Unable to locate that city.\n",
      "City no 572: = nabire. Saving city data.\n",
      "City no 573: = fort wellington. Saving city data.\n",
      "City no 574: = amahai. Saving city data.\n",
      "City no 575: = ballina. Saving city data.\n",
      "City no 576: = sept-iles. Saving city data.\n",
      "City no 577: = naerbo. Saving city data.\n",
      "City no 578: = howard springs. Saving city data.\n",
      "City no 579: = malazgirt. Saving city data.\n",
      "City no 580: = upernavik. Saving city data.\n",
      "City no 581: = malwan. Saving city data.\n",
      "Error. Unable to locate that city.\n",
      "City no 581: = jenbach. Saving city data.\n",
      "City no 582: = makakilo city. Saving city data.\n",
      "City no 583: = kang. Saving city data.\n",
      "City no 584: = rio casca. Saving city data.\n",
      "City no 585: = solovetskiy. Saving city data.\n",
      "Error. Unable to locate that city.\n",
      "City no 585: = silae. Saving city data.\n",
      "City no 586: = zemio. Saving city data.\n",
      "City no 587: = codrington. Saving city data.\n",
      "City no 588: = kosino. Saving city data.\n",
      "City no 589: = irmo. Saving city data.\n",
      "City no 590: = changping. Saving city data.\n",
      "City no 591: = barber. Saving city data.\n",
      "City no 592: = ca mau. Saving city data.\n",
      "City no 593: = concepcion del oro. Saving city data.\n",
      "City no 594: = pitimbu. Saving city data.\n",
      "City no 595: = salinas. Saving city data.\n",
      "City no 596: = nguiu. Saving city data.\n",
      "Error. Unable to locate that city.\n",
      "City no 596: = omsukchan. Saving city data.\n",
      "City no 597: = chifeng. Saving city data.\n",
      "City no 598: = port lincoln. Saving city data.\n",
      "City no 599: = ayan. Saving city data.\n",
      "City no 600: = os. Saving city data.\n",
      "Error. Unable to locate that city.\n",
      "City no 600: = praia da vitoria. Saving city data.\n",
      "City no 601: = vanino. Saving city data.\n",
      "City no 602: = asnaes. Saving city data.\n",
      "City no 603: = manaure. Saving city data.\n",
      "City no 604: = wonthaggi. Saving city data.\n",
      "City no 605: = san patricio. Saving city data.\n"
     ]
    }
   ],
   "source": [
    "# Making the API request based on the unique city list\n",
    "retrieved_data = []\n",
    "num = 1\n",
    "\n",
    "for city in city_list:\n",
    "# Components for the url\n",
    "    url = \"https://api.openweathermap.org/data/2.5/weather?\"\n",
    "    api_key = weather_key\n",
    "    # Replace any spaces from the city names so the url functions\n",
    "    city_format = city.replace(\" \", \"%20\")\n",
    "    query_url = f\"{url}q={city_format}&appid={api_key}&units=Metric\"\n",
    "\n",
    "    print(f\"City no {num}: = {city}. Saving city data.\")\n",
    "\n",
    "    weather_response = requests.get(query_url)\n",
    "    weather_json = weather_response.json()\n",
    "\n",
    "    # Check to see if each city is not found. Otherwise saving the relevant data for that city \n",
    "    if weather_json['cod'] == '404':\n",
    "        print(\"Error. Unable to locate that city.\")\n",
    "    else: \n",
    "        city_name = weather_json['name']\n",
    "        lat = weather_json['coord']['lat']\n",
    "        lng = weather_json['coord']['lon']\n",
    "        max_temp = weather_json['main']['temp']\n",
    "        hum = weather_json['main']['humidity']\n",
    "        clds = weather_json['clouds']['all']\n",
    "        wind_speed = weather_json['wind']['speed']\n",
    "        country = weather_json['sys']['country']\n",
    "        date = weather_json['dt']\n",
    "\n",
    "        retrieved_data.append({\"City\":city_name, \"Lat\":lat, \"Lng\":lng, \"Max Temp\": max_temp, \"Humidity\": hum, \"Cloudiness\": clds, \"Wind Speed\":wind_speed, \"Country\": country, \"Date\": date})\n",
    "        \n",
    "        num += 1"
   ]
  },
  {
   "cell_type": "code",
   "execution_count": 6,
   "metadata": {},
   "outputs": [],
   "source": [
    "# Assigning the retrieved data to weather info\n",
    "#weather_info = pd.DataFrame(retrieved_data)\n",
    "#print(f\"The number of unique cities selected is {len(weather_info)}.\")\n",
    "#weather_info.head()\n",
    "\n",
    "#This was only run the first time after retrieving weather info from the API"
   ]
  },
  {
   "cell_type": "code",
   "execution_count": 3,
   "metadata": {},
   "outputs": [],
   "source": [
    "# As an alternative to running the API multiple times, I have instead loaded the CSV file with weather_info\n",
    "weather_info = pd.read_csv(\"output_data\\weather_data.csv\")"
   ]
  },
  {
   "cell_type": "code",
   "execution_count": 4,
   "metadata": {},
   "outputs": [
    {
     "data": {
      "text/html": [
       "<div>\n",
       "<style scoped>\n",
       "    .dataframe tbody tr th:only-of-type {\n",
       "        vertical-align: middle;\n",
       "    }\n",
       "\n",
       "    .dataframe tbody tr th {\n",
       "        vertical-align: top;\n",
       "    }\n",
       "\n",
       "    .dataframe thead th {\n",
       "        text-align: right;\n",
       "    }\n",
       "</style>\n",
       "<table border=\"1\" class=\"dataframe\">\n",
       "  <thead>\n",
       "    <tr style=\"text-align: right;\">\n",
       "      <th></th>\n",
       "      <th>Lat</th>\n",
       "      <th>Lng</th>\n",
       "      <th>Max Temp</th>\n",
       "      <th>Humidity</th>\n",
       "      <th>Cloudiness</th>\n",
       "      <th>Wind Speed</th>\n",
       "      <th>Date</th>\n",
       "    </tr>\n",
       "  </thead>\n",
       "  <tbody>\n",
       "    <tr>\n",
       "      <th>count</th>\n",
       "      <td>605.000000</td>\n",
       "      <td>605.000000</td>\n",
       "      <td>605.000000</td>\n",
       "      <td>605.000000</td>\n",
       "      <td>605.000000</td>\n",
       "      <td>605.000000</td>\n",
       "      <td>6.050000e+02</td>\n",
       "    </tr>\n",
       "    <tr>\n",
       "      <th>mean</th>\n",
       "      <td>21.092676</td>\n",
       "      <td>23.883190</td>\n",
       "      <td>19.943289</td>\n",
       "      <td>67.454545</td>\n",
       "      <td>59.677686</td>\n",
       "      <td>3.821471</td>\n",
       "      <td>1.655621e+09</td>\n",
       "    </tr>\n",
       "    <tr>\n",
       "      <th>std</th>\n",
       "      <td>33.127920</td>\n",
       "      <td>88.876269</td>\n",
       "      <td>8.778066</td>\n",
       "      <td>21.966033</td>\n",
       "      <td>40.433130</td>\n",
       "      <td>2.408014</td>\n",
       "      <td>2.414794e+02</td>\n",
       "    </tr>\n",
       "    <tr>\n",
       "      <th>min</th>\n",
       "      <td>-54.800000</td>\n",
       "      <td>-179.166700</td>\n",
       "      <td>-3.970000</td>\n",
       "      <td>1.000000</td>\n",
       "      <td>0.000000</td>\n",
       "      <td>0.000000</td>\n",
       "      <td>1.655620e+09</td>\n",
       "    </tr>\n",
       "    <tr>\n",
       "      <th>25%</th>\n",
       "      <td>-6.050000</td>\n",
       "      <td>-56.154900</td>\n",
       "      <td>12.840000</td>\n",
       "      <td>53.000000</td>\n",
       "      <td>16.000000</td>\n",
       "      <td>1.930000</td>\n",
       "      <td>1.655621e+09</td>\n",
       "    </tr>\n",
       "    <tr>\n",
       "      <th>50%</th>\n",
       "      <td>24.757000</td>\n",
       "      <td>25.716700</td>\n",
       "      <td>20.860000</td>\n",
       "      <td>72.000000</td>\n",
       "      <td>75.000000</td>\n",
       "      <td>3.300000</td>\n",
       "      <td>1.655621e+09</td>\n",
       "    </tr>\n",
       "    <tr>\n",
       "      <th>75%</th>\n",
       "      <td>48.883200</td>\n",
       "      <td>105.823000</td>\n",
       "      <td>26.840000</td>\n",
       "      <td>84.000000</td>\n",
       "      <td>100.000000</td>\n",
       "      <td>5.230000</td>\n",
       "      <td>1.655621e+09</td>\n",
       "    </tr>\n",
       "    <tr>\n",
       "      <th>max</th>\n",
       "      <td>78.218600</td>\n",
       "      <td>179.316700</td>\n",
       "      <td>40.160000</td>\n",
       "      <td>100.000000</td>\n",
       "      <td>100.000000</td>\n",
       "      <td>13.230000</td>\n",
       "      <td>1.655621e+09</td>\n",
       "    </tr>\n",
       "  </tbody>\n",
       "</table>\n",
       "</div>"
      ],
      "text/plain": [
       "              Lat         Lng    Max Temp    Humidity  Cloudiness  Wind Speed  \\\n",
       "count  605.000000  605.000000  605.000000  605.000000  605.000000  605.000000   \n",
       "mean    21.092676   23.883190   19.943289   67.454545   59.677686    3.821471   \n",
       "std     33.127920   88.876269    8.778066   21.966033   40.433130    2.408014   \n",
       "min    -54.800000 -179.166700   -3.970000    1.000000    0.000000    0.000000   \n",
       "25%     -6.050000  -56.154900   12.840000   53.000000   16.000000    1.930000   \n",
       "50%     24.757000   25.716700   20.860000   72.000000   75.000000    3.300000   \n",
       "75%     48.883200  105.823000   26.840000   84.000000  100.000000    5.230000   \n",
       "max     78.218600  179.316700   40.160000  100.000000  100.000000   13.230000   \n",
       "\n",
       "               Date  \n",
       "count  6.050000e+02  \n",
       "mean   1.655621e+09  \n",
       "std    2.414794e+02  \n",
       "min    1.655620e+09  \n",
       "25%    1.655621e+09  \n",
       "50%    1.655621e+09  \n",
       "75%    1.655621e+09  \n",
       "max    1.655621e+09  "
      ]
     },
     "execution_count": 4,
     "metadata": {},
     "output_type": "execute_result"
    }
   ],
   "source": [
    "# Displaying Summary statistics\n",
    "weather_info.describe()"
   ]
  },
  {
   "cell_type": "markdown",
   "metadata": {},
   "source": [
    "Inspect the data and remove the cities where the humidity > 100%. As the max humidity is 100, \n",
    "there are no cities that need to be removed"
   ]
  },
  {
   "cell_type": "code",
   "execution_count": 5,
   "metadata": {},
   "outputs": [],
   "source": [
    "weather_info.to_csv(\"output_data\\weather_data.csv\", encoding='utf-8', index=False) "
   ]
  },
  {
   "cell_type": "markdown",
   "metadata": {},
   "source": [
    "#PLOTTING THE DATA"
   ]
  },
  {
   "cell_type": "markdown",
   "metadata": {},
   "source": [
    "*Latitude Vs Max Temperature (C) Plot*"
   ]
  },
  {
   "cell_type": "code",
   "execution_count": 6,
   "metadata": {
    "scrolled": true
   },
   "outputs": [
    {
     "data": {
      "image/png": "[encoded data removed]",
      "text/plain": [
       "<Figure size 360x288 with 1 Axes>"
      ]
     },
     "metadata": {
      "needs_background": "light"
     },
     "output_type": "display_data"
    }
   ],
   "source": [
    "plt.figure(figsize=(5,4))\n",
    "plt.scatter(weather_info[\"Lat\"], weather_info[\"Max Temp\"], color='g')\n",
    "plt.xlabel('Latitude')\n",
    "plt.ylabel('Max Temperature (C)')\n",
    "plt.title('Latitude Vs Max Temperature (C)')\n",
    "plt.savefig(\"output_data\\LatVsTemp.png\")\n",
    "plt.ylim(5,40)\n",
    "plt.grid()\n",
    "plt.show()"
   ]
  },
  {
   "cell_type": "markdown",
   "metadata": {},
   "source": [
    "The datapoints show a general increase in temperature closer to the equator, with the highest values occuring around 20° latitute."
   ]
  },
  {
   "cell_type": "markdown",
   "metadata": {},
   "source": [
    "*Latitude Vs Humidity (%) Plot*"
   ]
  },
  {
   "cell_type": "code",
   "execution_count": 7,
   "metadata": {},
   "outputs": [
    {
     "data": {
      "image/png": "[encoded data removed]",
      "text/plain": [
       "<Figure size 360x288 with 1 Axes>"
      ]
     },
     "metadata": {
      "needs_background": "light"
     },
     "output_type": "display_data"
    }
   ],
   "source": [
    "plt.figure(figsize=(5,4))\n",
    "plt.scatter(weather_info[\"Lat\"], weather_info[\"Humidity\"], color='g')\n",
    "plt.xlabel('Latitude')\n",
    "plt.ylabel('Humidity (%)')\n",
    "plt.title('Latitude Vs Humidity (%)')\n",
    "plt.savefig(\"output_data\\LatVsHum.png\")\n",
    "plt.grid()\n",
    "plt.show()\n"
   ]
  },
  {
   "cell_type": "markdown",
   "metadata": {},
   "source": [
    "Most of the humidity values are above 60%."
   ]
  },
  {
   "cell_type": "markdown",
   "metadata": {},
   "source": [
    "*Latitude Vs Cloudiness (%) Plot*"
   ]
  },
  {
   "cell_type": "code",
   "execution_count": 8,
   "metadata": {},
   "outputs": [
    {
     "data": {
      "image/png": "[encoded data removed]",
      "text/plain": [
       "<Figure size 360x288 with 1 Axes>"
      ]
     },
     "metadata": {
      "needs_background": "light"
     },
     "output_type": "display_data"
    }
   ],
   "source": [
    "plt.figure(figsize=(5,4))\n",
    "plt.scatter(weather_info[\"Lat\"], weather_info[\"Cloudiness\"], color='g')\n",
    "plt.xlabel('Latitude')\n",
    "plt.ylabel('Cloudiness (%)')\n",
    "plt.title('Latitude Vs Cloudiness (%)')\n",
    "plt.savefig(\"output_data\\LatVsCld.png\")\n",
    "plt.grid()\n",
    "plt.show()"
   ]
  },
  {
   "cell_type": "markdown",
   "metadata": {},
   "source": [
    "It seems the data points cluster around certain bands of values, e.g. 40% and 100%, implying a lot of the data was rounded heavily."
   ]
  },
  {
   "cell_type": "markdown",
   "metadata": {},
   "source": [
    "*Latitude Vs Wind Speed (mph) Plot*"
   ]
  },
  {
   "cell_type": "code",
   "execution_count": 9,
   "metadata": {},
   "outputs": [
    {
     "data": {
      "image/png": "[encoded data removed]",
      "text/plain": [
       "<Figure size 360x288 with 1 Axes>"
      ]
     },
     "metadata": {
      "needs_background": "light"
     },
     "output_type": "display_data"
    }
   ],
   "source": [
    "plt.figure(figsize=(5,4))\n",
    "plt.xlabel('Latitude')\n",
    "plt.ylabel('Wind Speed (mph)')\n",
    "plt.title('Latitude Vs Wind Speed (mph)')\n",
    "plt.grid()\n",
    "plt.scatter(weather_info[\"Lat\"], weather_info[\"Wind Speed\"], color='g')\n",
    "plt.savefig(\"output_data\\LatVsWindSpeed.png\")\n",
    "plt.show()"
   ]
  },
  {
   "cell_type": "markdown",
   "metadata": {},
   "source": [
    "Wind speeds are spread fairly evenly by hemisphere."
   ]
  },
  {
   "cell_type": "code",
   "execution_count": 10,
   "metadata": {},
   "outputs": [],
   "source": [
    "# Sorting the weather information into Northern and Southern Hemisphere sets\n",
    "\n",
    "N_hemi = weather_info.loc[weather_info[\"Lat\"] > 0]\n",
    "S_hemi = weather_info.loc[weather_info[\"Lat\"] <= 0]\n"
   ]
  },
  {
   "cell_type": "markdown",
   "metadata": {},
   "source": [
    "#LINEAR REGRESSION"
   ]
  },
  {
   "cell_type": "markdown",
   "metadata": {},
   "source": [
    "*Northern Hemisphere - Latitude Vs Max Temp (C) Linear Regression*"
   ]
  },
  {
   "cell_type": "code",
   "execution_count": 11,
   "metadata": {},
   "outputs": [
    {
     "name": "stdout",
     "output_type": "stream",
     "text": [
      "The r-value is: -0.6494937969977947\n"
     ]
    },
    {
     "data": {
      "image/png": "[encoded data removed]",
      "text/plain": [
       "<Figure size 360x288 with 1 Axes>"
      ]
     },
     "metadata": {
      "needs_background": "light"
     },
     "output_type": "display_data"
    }
   ],
   "source": [
    "plt.figure(figsize=(5,4))\n",
    "plt.scatter(N_hemi[\"Lat\"], N_hemi[\"Max Temp\"], color='r')\n",
    "plt.xlabel('Latitude')\n",
    "plt.ylabel('Max Temp (C)')\n",
    "plt.savefig(\"output_data\\LatVsMaxTempN.png\")\n",
    "plt.grid()\n",
    "# Isolating relevant data columns then calculating regression and coeffecient values\n",
    "l = N_hemi.iloc[:, 1]\n",
    "t = N_hemi.iloc[:, 3]\n",
    "corr_coef = st.pearsonr(l, t)\n",
    "vc_slope, vc_int, vc_r, vc_p, vc_std_err = st.linregress(l, t)\n",
    "vc_fit = vc_slope * l + vc_int\n",
    "plt.plot(l,vc_fit,\"-\", color='b')\n",
    "print(f\"The r-value is: {corr_coef[0]}\")\n",
    "plt.show()"
   ]
  },
  {
   "cell_type": "markdown",
   "metadata": {},
   "source": [
    "*Southern Hemisphere - Latitude Vs Max Temp (C) Linear Regression*"
   ]
  },
  {
   "cell_type": "code",
   "execution_count": 22,
   "metadata": {},
   "outputs": [
    {
     "name": "stdout",
     "output_type": "stream",
     "text": [
      "The r-value is: 0.7957185798698447\n"
     ]
    },
    {
     "data": {
      "image/png": "[encoded data removed]",
      "text/plain": [
       "<Figure size 360x288 with 1 Axes>"
      ]
     },
     "metadata": {
      "needs_background": "light"
     },
     "output_type": "display_data"
    }
   ],
   "source": [
    "plt.figure(figsize=(5,4))\n",
    "plt.scatter(S_hemi[\"Lat\"], S_hemi[\"Max Temp\"], color='orange')\n",
    "plt.xlabel('Latitude')\n",
    "plt.ylabel('Max Temp (C)')\n",
    "plt.savefig(\"output_data\\LatVsMaxTempS.png\")\n",
    "plt.grid()\n",
    "# Isolating relevant data columns then calculating regression and coeffecient values\n",
    "l = S_hemi.iloc[:, 1]\n",
    "t = S_hemi.iloc[:, 3]\n",
    "corr_coef = st.pearsonr(l, t)\n",
    "vc_slope, vc_int, vc_r, vc_p, vc_std_err = st.linregress(l, t)\n",
    "vc_fit = vc_slope * l + vc_int\n",
    "plt.plot(l,vc_fit,\"-\", color='b')\n",
    "print(f\"The r-value is: {corr_coef[0]}\")\n",
    "plt.show()"
   ]
  },
  {
   "cell_type": "markdown",
   "metadata": {},
   "source": [
    "There is a fairly strong correlation between Northern hemisphere temperature and closeness to the equator and an even stronger correlation occurs between lower latitudes and lower temperatures in the Southern hemisphere."
   ]
  },
  {
   "cell_type": "markdown",
   "metadata": {},
   "source": [
    "*Northern Hemisphere - Latitude Vs Humidity (%) Linear Regression*"
   ]
  },
  {
   "cell_type": "code",
   "execution_count": 13,
   "metadata": {},
   "outputs": [
    {
     "name": "stdout",
     "output_type": "stream",
     "text": [
      "The r-value is: -0.02238117523204253\n"
     ]
    },
    {
     "data": {
      "image/png": "[encoded data removed]",
      "text/plain": [
       "<Figure size 360x288 with 1 Axes>"
      ]
     },
     "metadata": {
      "needs_background": "light"
     },
     "output_type": "display_data"
    }
   ],
   "source": [
    "plt.figure(figsize=(5,4))\n",
    "plt.scatter(N_hemi[\"Lat\"], N_hemi[\"Humidity\"], color='r')\n",
    "plt.xlabel('Latitude')\n",
    "plt.ylabel('Humidity (%)')\n",
    "plt.savefig(\"output_data\\LatVsHumN.png\")\n",
    "plt.grid()\n",
    "# Isolating relevant data columns then calculating regression and coeffecient values\n",
    "l = N_hemi.iloc[:, 1]\n",
    "t = N_hemi.iloc[:, 4]\n",
    "corr_coef = st.pearsonr(l, t)\n",
    "vc_slope, vc_int, vc_r, vc_p, vc_std_err = st.linregress(l, t)\n",
    "vc_fit = vc_slope * l + vc_int\n",
    "plt.plot(l,vc_fit,\"-\", color='b')\n",
    "print(f\"The r-value is: {corr_coef[0]}\")\n",
    "plt.show()"
   ]
  },
  {
   "cell_type": "markdown",
   "metadata": {},
   "source": [
    "*Southern Hemisphere - Latitude Vs Humidity (%) Linear Regression*"
   ]
  },
  {
   "cell_type": "code",
   "execution_count": 23,
   "metadata": {},
   "outputs": [
    {
     "name": "stdout",
     "output_type": "stream",
     "text": [
      "The r-value is: -0.07131345097210313\n"
     ]
    },
    {
     "data": {
      "image/png": "[encoded data removed]",
      "text/plain": [
       "<Figure size 360x288 with 1 Axes>"
      ]
     },
     "metadata": {
      "needs_background": "light"
     },
     "output_type": "display_data"
    }
   ],
   "source": [
    "plt.figure(figsize=(5,4))\n",
    "plt.scatter(S_hemi[\"Lat\"], S_hemi[\"Humidity\"], color='orange')\n",
    "plt.xlabel('Latitude')\n",
    "plt.ylabel('Humidity (%)')\n",
    "plt.savefig(\"output_data\\LatVsHumS.png\")\n",
    "plt.grid()\n",
    "# Isolating relevant data columns then calculating regression and coeffecient values\n",
    "l = S_hemi.iloc[:, 1]\n",
    "t = S_hemi.iloc[:, 4]\n",
    "corr_coef = st.pearsonr(l, t)\n",
    "vc_slope, vc_int, vc_r, vc_p, vc_std_err = st.linregress(l, t)\n",
    "vc_fit = vc_slope * l + vc_int\n",
    "plt.plot(l,vc_fit,\"-\", color='b')\n",
    "print(f\"The r-value is: {corr_coef[0]}\")\n",
    "plt.show()"
   ]
  },
  {
   "cell_type": "markdown",
   "metadata": {},
   "source": [
    "The correlation between humidity and latitude are very weak in both hemispheres."
   ]
  },
  {
   "cell_type": "markdown",
   "metadata": {},
   "source": [
    "*Northern Hemisphere - Latitude Vs Cloudiness (%) Linear Regression*"
   ]
  },
  {
   "cell_type": "code",
   "execution_count": 15,
   "metadata": {},
   "outputs": [
    {
     "name": "stdout",
     "output_type": "stream",
     "text": [
      "The r-value is: 0.018153954054670962\n"
     ]
    },
    {
     "data": {
      "image/png": "[encoded data removed]",
      "text/plain": [
       "<Figure size 360x288 with 1 Axes>"
      ]
     },
     "metadata": {
      "needs_background": "light"
     },
     "output_type": "display_data"
    }
   ],
   "source": [
    "plt.figure(figsize=(5,4))\n",
    "plt.scatter(N_hemi[\"Lat\"], N_hemi[\"Cloudiness\"], color='r')\n",
    "plt.xlabel('Latitude')\n",
    "plt.ylabel('Cloudiness (%)')\n",
    "plt.savefig(\"output_data\\LatVsCldN.png\")\n",
    "plt.grid()\n",
    "# Isolating relevant data columns then calculating regression and coeffecient values\n",
    "l = N_hemi.iloc[:, 1]\n",
    "t = N_hemi.iloc[:, 5]\n",
    "corr_coef = st.pearsonr(l, t)\n",
    "vc_slope, vc_int, vc_r, vc_p, vc_std_err = st.linregress(l, t)\n",
    "vc_fit = vc_slope * l + vc_int\n",
    "plt.plot(l,vc_fit,\"-\", color='b')\n",
    "print(f\"The r-value is: {corr_coef[0]}\")\n",
    "plt.show()"
   ]
  },
  {
   "cell_type": "markdown",
   "metadata": {},
   "source": [
    " *Southern Hemisphere - Latitude Vs Cloudiness (%) Linear Regression*"
   ]
  },
  {
   "cell_type": "code",
   "execution_count": 24,
   "metadata": {},
   "outputs": [
    {
     "name": "stdout",
     "output_type": "stream",
     "text": [
      "The r-value is: -0.09675764445914557\n"
     ]
    },
    {
     "data": {
      "image/png": "[encoded data removed]",
      "text/plain": [
       "<Figure size 360x288 with 1 Axes>"
      ]
     },
     "metadata": {
      "needs_background": "light"
     },
     "output_type": "display_data"
    }
   ],
   "source": [
    "plt.figure(figsize=(5,4))\n",
    "plt.scatter(S_hemi[\"Lat\"], S_hemi[\"Cloudiness\"], color='orange')\n",
    "plt.xlabel('Latitude')\n",
    "plt.ylabel('Cloudiness (%)')\n",
    "plt.savefig(\"output_data\\LatVsCldS.png\")\n",
    "plt.grid()\n",
    "# Isolating relevant data columns then calculating regression and coeffecient values\n",
    "l = S_hemi.iloc[:, 1]\n",
    "t = S_hemi.iloc[:, 5]\n",
    "corr_coef = st.pearsonr(l, t)\n",
    "vc_slope, vc_int, vc_r, vc_p, vc_std_err = st.linregress(l, t)\n",
    "vc_fit = vc_slope * l + vc_int\n",
    "plt.plot(l,vc_fit,\"-\", color='b')\n",
    "print(f\"The r-value is: {corr_coef[0]}\")\n",
    "plt.show()"
   ]
  },
  {
   "cell_type": "markdown",
   "metadata": {},
   "source": [
    "The correlations between cloudiness and latitude are very weak in both the Northern and Southern hemispheres."
   ]
  },
  {
   "cell_type": "markdown",
   "metadata": {},
   "source": [
    "*Northern Hemisphere - Latitude Vs Wind Speed (mph) Linear Regression*"
   ]
  },
  {
   "cell_type": "code",
   "execution_count": 17,
   "metadata": {},
   "outputs": [
    {
     "name": "stdout",
     "output_type": "stream",
     "text": [
      "The r-value is: 0.11372565522505093\n"
     ]
    },
    {
     "data": {
      "image/png": "[encoded data removed]",
      "text/plain": [
       "<Figure size 360x288 with 1 Axes>"
      ]
     },
     "metadata": {
      "needs_background": "light"
     },
     "output_type": "display_data"
    }
   ],
   "source": [
    "plt.figure(figsize=(5,4))\n",
    "plt.scatter(N_hemi[\"Lat\"], N_hemi[\"Wind Speed\"], color='r')\n",
    "plt.xlabel('Latitude')\n",
    "plt.ylabel('Wind Speed (mph)')\n",
    "plt.savefig(\"output_data\\LatVsWindSpeedN.png\")\n",
    "plt.grid()\n",
    "# Isolating relevant data columns then calculating regression and coeffecient values\n",
    "l = N_hemi.iloc[:, 1]\n",
    "t = N_hemi.iloc[:, 6]\n",
    "corr_coef = st.pearsonr(l, t)\n",
    "vc_slope, vc_int, vc_r, vc_p, vc_std_err = st.linregress(l, t)\n",
    "vc_fit = vc_slope * l + vc_int\n",
    "plt.plot(l,vc_fit,\"-\", color='b')\n",
    "print(f\"The r-value is: {corr_coef[0]}\")\n",
    "plt.show()"
   ]
  },
  {
   "cell_type": "markdown",
   "metadata": {},
   "source": [
    "*Southern Hemisphere - Latitude Vs Wind Speed (mph) Linear Regression*"
   ]
  },
  {
   "cell_type": "code",
   "execution_count": 25,
   "metadata": {},
   "outputs": [
    {
     "name": "stdout",
     "output_type": "stream",
     "text": [
      "The r-value is: -0.22160490736814137\n"
     ]
    },
    {
     "data": {
      "image/png": "[encoded data removed]",
      "text/plain": [
       "<Figure size 360x288 with 1 Axes>"
      ]
     },
     "metadata": {
      "needs_background": "light"
     },
     "output_type": "display_data"
    }
   ],
   "source": [
    "plt.figure(figsize=(5,4))\n",
    "plt.scatter(S_hemi[\"Lat\"], S_hemi[\"Wind Speed\"], color='orange')\n",
    "plt.xlabel('Latitude')\n",
    "plt.ylabel('Wind Speed (mph)')\n",
    "plt.savefig(\"output_data\\LatVsWindSpeedS.png\")\n",
    "plt.grid()\n",
    "# Isolating relevant data columns then calculating regression and coeffecient values\n",
    "l = S_hemi.iloc[:, 1]\n",
    "t = S_hemi.iloc[:, 6]\n",
    "corr_coef = st.pearsonr(l, t)\n",
    "vc_slope, vc_int, vc_r, vc_p, vc_std_err = st.linregress(l, t)\n",
    "vc_fit = vc_slope * l + vc_int\n",
    "plt.plot(l,vc_fit,\"-\", color='b')\n",
    "print(f\"The r-value is: {corr_coef[0]}\")\n",
    "plt.show()"
   ]
  },
  {
   "cell_type": "markdown",
   "metadata": {},
   "source": [
    "The correlation between wind speeds and latitude is very weak in the Northern hemisphere and the negative correlation is still quite weak but stronger in the Southern hemisphere."
   ]
  }
 ],
 "metadata": {
  "kernelspec": {
   "display_name": "Python [conda env:.conda-bootcamp] *",
   "language": "python",
   "name": "conda-env-.conda-bootcamp-py"
  },
  "language_info": {
   "codemirror_mode": {
    "name": "ipython",
    "version": 3
   },
   "file_extension": ".py",
   "mimetype": "text/x-python",
   "name": "python",
   "nbconvert_exporter": "python",
   "pygments_lexer": "ipython3",
   "version": "3.7.13"
  },
  "latex_envs": {
   "LaTeX_envs_menu_present": true,
   "autoclose": false,
   "autocomplete": true,
   "bibliofile": "biblio.bib",
   "cite_by": "apalike",
   "current_citInitial": 1,
   "eqLabelWithNumbers": true,
   "eqNumInitial": 1,
   "hotkeys": {
    "equation": "Ctrl-E",
    "itemize": "Ctrl-I"
   },
   "labels_anchors": false,
   "latex_user_defs": false,
   "report_style_numbering": false,
   "user_envs_cfg": false
  },
  "vscode": {
   "interpreter": {
    "hash": "2236a0773a3e4c68aab6b25ee30a420128285aa7a29344b2cf7c5faae3931b9c"
   }
  }
 },
 "nbformat": 4,
 "nbformat_minor": 2
}
