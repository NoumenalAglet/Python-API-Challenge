{
 "cells": [
  {
   "cell_type": "markdown",
   "metadata": {},
   "source": [
    "Observable trends:\n"
   ]
  },
  {
   "cell_type": "markdown",
   "metadata": {},
   "source": [
    "Dependencies"
   ]
  },
  {
   "cell_type": "code",
   "execution_count": 1,
   "metadata": {},
   "outputs": [],
   "source": [
    "import pandas as pd\n",
    "import matplotlib.pyplot as plt\n",
    "from citipy import citipy\n",
    "import requests\n",
    "import random\n",
    "import scipy.stats as st\n",
    "\n",
    "# API keys\n",
    "from config import weather_key\n"
   ]
  },
  {
   "cell_type": "markdown",
   "metadata": {},
   "source": [
    "COLLECTING THE DATA"
   ]
  },
  {
   "cell_type": "code",
   "execution_count": 2,
   "metadata": {},
   "outputs": [
    {
     "name": "stdout",
     "output_type": "stream",
     "text": [
      "5\n"
     ]
    }
   ],
   "source": [
    "city_list = []\n",
    "for i in range(5): #1600 gives ~600. 1000 per day limit though\n",
    "    random_latitude = round(random.uniform(-90, 90), 6)\n",
    "    random_longitude = round(random.uniform(-180, 180), 6)\n",
    "    city = citipy.nearest_city(random_latitude, random_longitude).city_name #try without country code\n",
    "    if city not in city_list:\n",
    "        city_list.append(city)\n",
    "print(len(city_list))"
   ]
  },
  {
   "cell_type": "code",
   "execution_count": 3,
   "metadata": {},
   "outputs": [
    {
     "name": "stdout",
     "output_type": "stream",
     "text": [
      "City no 1: = hithadhoo. Saving city data.\n",
      "City no 2: = shelburne. Saving city data.\n",
      "City no 3: = noumea. Saving city data.\n",
      "City no 4: = grand river south east. Saving city data.\n",
      "Error. Unable to locate that city.\n",
      "City no 4: = koudougou. Saving city data.\n"
     ]
    }
   ],
   "source": [
    "# Making the API request based on the unique city list\n",
    "retrieved_data = []\n",
    "num = 1\n",
    "\n",
    "for city in city_list:\n",
    "# Components for the url\n",
    "    url = \"https://api.openweathermap.org/data/2.5/weather?\"\n",
    "    api_key = weather_key\n",
    "    # Replace any spaces from the city names so the url functions\n",
    "    city_format = city.replace(\" \", \"%20\")\n",
    "    query_url = f\"{url}q={city_format}&appid={api_key}&units=Metric\"\n",
    "\n",
    "    print(f\"City no {num}: = {city}. Saving city data.\")\n",
    "\n",
    "    weather_response = requests.get(query_url)\n",
    "    weather_json = weather_response.json()\n",
    "\n",
    "    # Check to see if each city is not found. Otherwise saving the relevant data for that city \n",
    "    if weather_json['cod'] == '404':\n",
    "        print(\"Error. Unable to locate that city.\")\n",
    "    else: \n",
    "        city_name = weather_json['name']\n",
    "        lat = weather_json['coord']['lat']\n",
    "        lng = weather_json['coord']['lon']\n",
    "        max_temp = weather_json['main']['temp']\n",
    "        hum = weather_json['main']['humidity']\n",
    "        clds = weather_json['clouds']['all']\n",
    "        wind_speed = weather_json['wind']['speed']\n",
    "        country = weather_json['sys']['country']\n",
    "        date = weather_json['dt']\n",
    "\n",
    "        retrieved_data.append({\"City\":city_name, \"Lat\":lat, \"Lng\":lng, \"Max Temp\": max_temp, \"Humidity\": hum, \"Cloudiness\": clds, \"Wind Speed\":wind_speed, \"Country\": country, \"Date\": date})\n",
    "        \n",
    "        num += 1"
   ]
  },
  {
   "cell_type": "code",
   "execution_count": 4,
   "metadata": {},
   "outputs": [
    {
     "name": "stdout",
     "output_type": "stream",
     "text": [
      "4\n"
     ]
    },
    {
     "data": {
      "text/html": [
       "<div>\n",
       "<style scoped>\n",
       "    .dataframe tbody tr th:only-of-type {\n",
       "        vertical-align: middle;\n",
       "    }\n",
       "\n",
       "    .dataframe tbody tr th {\n",
       "        vertical-align: top;\n",
       "    }\n",
       "\n",
       "    .dataframe thead th {\n",
       "        text-align: right;\n",
       "    }\n",
       "</style>\n",
       "<table border=\"1\" class=\"dataframe\">\n",
       "  <thead>\n",
       "    <tr style=\"text-align: right;\">\n",
       "      <th></th>\n",
       "      <th>City</th>\n",
       "      <th>Lat</th>\n",
       "      <th>Lng</th>\n",
       "      <th>Max Temp</th>\n",
       "      <th>Humidity</th>\n",
       "      <th>Cloudiness</th>\n",
       "      <th>Wind Speed</th>\n",
       "      <th>Country</th>\n",
       "      <th>Date</th>\n",
       "    </tr>\n",
       "  </thead>\n",
       "  <tbody>\n",
       "    <tr>\n",
       "      <th>0</th>\n",
       "      <td>Hithadhoo</td>\n",
       "      <td>-0.6000</td>\n",
       "      <td>73.0833</td>\n",
       "      <td>27.70</td>\n",
       "      <td>71</td>\n",
       "      <td>100</td>\n",
       "      <td>0.78</td>\n",
       "      <td>MV</td>\n",
       "      <td>1655600008</td>\n",
       "    </tr>\n",
       "    <tr>\n",
       "      <th>1</th>\n",
       "      <td>Shelburne</td>\n",
       "      <td>44.0787</td>\n",
       "      <td>-80.2041</td>\n",
       "      <td>13.15</td>\n",
       "      <td>49</td>\n",
       "      <td>0</td>\n",
       "      <td>6.12</td>\n",
       "      <td>CA</td>\n",
       "      <td>1655600009</td>\n",
       "    </tr>\n",
       "    <tr>\n",
       "      <th>2</th>\n",
       "      <td>Noumea</td>\n",
       "      <td>-22.2763</td>\n",
       "      <td>166.4572</td>\n",
       "      <td>23.33</td>\n",
       "      <td>99</td>\n",
       "      <td>100</td>\n",
       "      <td>1.35</td>\n",
       "      <td>NC</td>\n",
       "      <td>1655600011</td>\n",
       "    </tr>\n",
       "    <tr>\n",
       "      <th>3</th>\n",
       "      <td>Koudougou</td>\n",
       "      <td>12.2500</td>\n",
       "      <td>-2.3667</td>\n",
       "      <td>26.13</td>\n",
       "      <td>66</td>\n",
       "      <td>100</td>\n",
       "      <td>2.41</td>\n",
       "      <td>BF</td>\n",
       "      <td>1655600013</td>\n",
       "    </tr>\n",
       "  </tbody>\n",
       "</table>\n",
       "</div>"
      ],
      "text/plain": [
       "        City      Lat       Lng  Max Temp  Humidity  Cloudiness  Wind Speed  \\\n",
       "0  Hithadhoo  -0.6000   73.0833     27.70        71         100        0.78   \n",
       "1  Shelburne  44.0787  -80.2041     13.15        49           0        6.12   \n",
       "2     Noumea -22.2763  166.4572     23.33        99         100        1.35   \n",
       "3  Koudougou  12.2500   -2.3667     26.13        66         100        2.41   \n",
       "\n",
       "  Country        Date  \n",
       "0      MV  1655600008  \n",
       "1      CA  1655600009  \n",
       "2      NC  1655600011  \n",
       "3      BF  1655600013  "
      ]
     },
     "execution_count": 4,
     "metadata": {},
     "output_type": "execute_result"
    }
   ],
   "source": [
    "weather_info = pd.DataFrame(retrieved_data)\n",
    "print(len(weather_info))\n",
    "weather_info"
   ]
  },
  {
   "cell_type": "code",
   "execution_count": 5,
   "metadata": {},
   "outputs": [
    {
     "data": {
      "text/html": [
       "<div>\n",
       "<style scoped>\n",
       "    .dataframe tbody tr th:only-of-type {\n",
       "        vertical-align: middle;\n",
       "    }\n",
       "\n",
       "    .dataframe tbody tr th {\n",
       "        vertical-align: top;\n",
       "    }\n",
       "\n",
       "    .dataframe thead th {\n",
       "        text-align: right;\n",
       "    }\n",
       "</style>\n",
       "<table border=\"1\" class=\"dataframe\">\n",
       "  <thead>\n",
       "    <tr style=\"text-align: right;\">\n",
       "      <th></th>\n",
       "      <th>Lat</th>\n",
       "      <th>Lng</th>\n",
       "      <th>Max Temp</th>\n",
       "      <th>Humidity</th>\n",
       "      <th>Cloudiness</th>\n",
       "      <th>Wind Speed</th>\n",
       "      <th>Date</th>\n",
       "    </tr>\n",
       "  </thead>\n",
       "  <tbody>\n",
       "    <tr>\n",
       "      <th>count</th>\n",
       "      <td>4.000000</td>\n",
       "      <td>4.000000</td>\n",
       "      <td>4.000000</td>\n",
       "      <td>4.000000</td>\n",
       "      <td>4.0</td>\n",
       "      <td>4.000000</td>\n",
       "      <td>4.000000e+00</td>\n",
       "    </tr>\n",
       "    <tr>\n",
       "      <th>mean</th>\n",
       "      <td>8.363100</td>\n",
       "      <td>39.242425</td>\n",
       "      <td>22.577500</td>\n",
       "      <td>71.250000</td>\n",
       "      <td>75.0</td>\n",
       "      <td>2.665000</td>\n",
       "      <td>1.655600e+09</td>\n",
       "    </tr>\n",
       "    <tr>\n",
       "      <th>std</th>\n",
       "      <td>27.747805</td>\n",
       "      <td>105.400183</td>\n",
       "      <td>6.539732</td>\n",
       "      <td>20.758532</td>\n",
       "      <td>50.0</td>\n",
       "      <td>2.400312</td>\n",
       "      <td>2.217356e+00</td>\n",
       "    </tr>\n",
       "    <tr>\n",
       "      <th>min</th>\n",
       "      <td>-22.276300</td>\n",
       "      <td>-80.204100</td>\n",
       "      <td>13.150000</td>\n",
       "      <td>49.000000</td>\n",
       "      <td>0.0</td>\n",
       "      <td>0.780000</td>\n",
       "      <td>1.655600e+09</td>\n",
       "    </tr>\n",
       "    <tr>\n",
       "      <th>25%</th>\n",
       "      <td>-6.019075</td>\n",
       "      <td>-21.826050</td>\n",
       "      <td>20.785000</td>\n",
       "      <td>61.750000</td>\n",
       "      <td>75.0</td>\n",
       "      <td>1.207500</td>\n",
       "      <td>1.655600e+09</td>\n",
       "    </tr>\n",
       "    <tr>\n",
       "      <th>50%</th>\n",
       "      <td>5.825000</td>\n",
       "      <td>35.358300</td>\n",
       "      <td>24.730000</td>\n",
       "      <td>68.500000</td>\n",
       "      <td>100.0</td>\n",
       "      <td>1.880000</td>\n",
       "      <td>1.655600e+09</td>\n",
       "    </tr>\n",
       "    <tr>\n",
       "      <th>75%</th>\n",
       "      <td>20.207175</td>\n",
       "      <td>96.426775</td>\n",
       "      <td>26.522500</td>\n",
       "      <td>78.000000</td>\n",
       "      <td>100.0</td>\n",
       "      <td>3.337500</td>\n",
       "      <td>1.655600e+09</td>\n",
       "    </tr>\n",
       "    <tr>\n",
       "      <th>max</th>\n",
       "      <td>44.078700</td>\n",
       "      <td>166.457200</td>\n",
       "      <td>27.700000</td>\n",
       "      <td>99.000000</td>\n",
       "      <td>100.0</td>\n",
       "      <td>6.120000</td>\n",
       "      <td>1.655600e+09</td>\n",
       "    </tr>\n",
       "  </tbody>\n",
       "</table>\n",
       "</div>"
      ],
      "text/plain": [
       "             Lat         Lng   Max Temp   Humidity  Cloudiness  Wind Speed  \\\n",
       "count   4.000000    4.000000   4.000000   4.000000         4.0    4.000000   \n",
       "mean    8.363100   39.242425  22.577500  71.250000        75.0    2.665000   \n",
       "std    27.747805  105.400183   6.539732  20.758532        50.0    2.400312   \n",
       "min   -22.276300  -80.204100  13.150000  49.000000         0.0    0.780000   \n",
       "25%    -6.019075  -21.826050  20.785000  61.750000        75.0    1.207500   \n",
       "50%     5.825000   35.358300  24.730000  68.500000       100.0    1.880000   \n",
       "75%    20.207175   96.426775  26.522500  78.000000       100.0    3.337500   \n",
       "max    44.078700  166.457200  27.700000  99.000000       100.0    6.120000   \n",
       "\n",
       "               Date  \n",
       "count  4.000000e+00  \n",
       "mean   1.655600e+09  \n",
       "std    2.217356e+00  \n",
       "min    1.655600e+09  \n",
       "25%    1.655600e+09  \n",
       "50%    1.655600e+09  \n",
       "75%    1.655600e+09  \n",
       "max    1.655600e+09  "
      ]
     },
     "execution_count": 5,
     "metadata": {},
     "output_type": "execute_result"
    }
   ],
   "source": [
    "# Displaying Summary statistics\n",
    "weather_info.describe()"
   ]
  },
  {
   "cell_type": "code",
   "execution_count": 6,
   "metadata": {},
   "outputs": [],
   "source": [
    "#  Inspect the data and remove the cities where the humidity > 100%."
   ]
  },
  {
   "cell_type": "code",
   "execution_count": 7,
   "metadata": {},
   "outputs": [],
   "source": [
    "weather_info.to_csv(\"output_data\\weather_data.csv\", encoding='utf-8', index=False) "
   ]
  },
  {
   "cell_type": "code",
   "execution_count": 9,
   "metadata": {},
   "outputs": [
    {
     "data": {
      "text/html": [
       "<div>\n",
       "<style scoped>\n",
       "    .dataframe tbody tr th:only-of-type {\n",
       "        vertical-align: middle;\n",
       "    }\n",
       "\n",
       "    .dataframe tbody tr th {\n",
       "        vertical-align: top;\n",
       "    }\n",
       "\n",
       "    .dataframe thead th {\n",
       "        text-align: right;\n",
       "    }\n",
       "</style>\n",
       "<table border=\"1\" class=\"dataframe\">\n",
       "  <thead>\n",
       "    <tr style=\"text-align: right;\">\n",
       "      <th></th>\n",
       "      <th>City</th>\n",
       "      <th>Lat</th>\n",
       "      <th>Lng</th>\n",
       "      <th>Max Temp</th>\n",
       "      <th>Humidity</th>\n",
       "      <th>Cloudiness</th>\n",
       "      <th>Wind Speed</th>\n",
       "      <th>Country</th>\n",
       "      <th>Date</th>\n",
       "    </tr>\n",
       "  </thead>\n",
       "  <tbody>\n",
       "    <tr>\n",
       "      <th>0</th>\n",
       "      <td>Hithadhoo</td>\n",
       "      <td>-0.6000</td>\n",
       "      <td>73.0833</td>\n",
       "      <td>27.70</td>\n",
       "      <td>71</td>\n",
       "      <td>100</td>\n",
       "      <td>0.78</td>\n",
       "      <td>MV</td>\n",
       "      <td>1655600008</td>\n",
       "    </tr>\n",
       "    <tr>\n",
       "      <th>1</th>\n",
       "      <td>Shelburne</td>\n",
       "      <td>44.0787</td>\n",
       "      <td>-80.2041</td>\n",
       "      <td>13.15</td>\n",
       "      <td>49</td>\n",
       "      <td>0</td>\n",
       "      <td>6.12</td>\n",
       "      <td>CA</td>\n",
       "      <td>1655600009</td>\n",
       "    </tr>\n",
       "    <tr>\n",
       "      <th>2</th>\n",
       "      <td>Noumea</td>\n",
       "      <td>-22.2763</td>\n",
       "      <td>166.4572</td>\n",
       "      <td>23.33</td>\n",
       "      <td>99</td>\n",
       "      <td>100</td>\n",
       "      <td>1.35</td>\n",
       "      <td>NC</td>\n",
       "      <td>1655600011</td>\n",
       "    </tr>\n",
       "    <tr>\n",
       "      <th>3</th>\n",
       "      <td>Koudougou</td>\n",
       "      <td>12.2500</td>\n",
       "      <td>-2.3667</td>\n",
       "      <td>26.13</td>\n",
       "      <td>66</td>\n",
       "      <td>100</td>\n",
       "      <td>2.41</td>\n",
       "      <td>BF</td>\n",
       "      <td>1655600013</td>\n",
       "    </tr>\n",
       "  </tbody>\n",
       "</table>\n",
       "</div>"
      ],
      "text/plain": [
       "        City      Lat       Lng  Max Temp  Humidity  Cloudiness  Wind Speed  \\\n",
       "0  Hithadhoo  -0.6000   73.0833     27.70        71         100        0.78   \n",
       "1  Shelburne  44.0787  -80.2041     13.15        49           0        6.12   \n",
       "2     Noumea -22.2763  166.4572     23.33        99         100        1.35   \n",
       "3  Koudougou  12.2500   -2.3667     26.13        66         100        2.41   \n",
       "\n",
       "  Country        Date  \n",
       "0      MV  1655600008  \n",
       "1      CA  1655600009  \n",
       "2      NC  1655600011  \n",
       "3      BF  1655600013  "
      ]
     },
     "execution_count": 9,
     "metadata": {},
     "output_type": "execute_result"
    }
   ],
   "source": [
    "weather_info"
   ]
  },
  {
   "cell_type": "markdown",
   "metadata": {},
   "source": [
    "PLOTTING THE DATA"
   ]
  },
  {
   "cell_type": "markdown",
   "metadata": {},
   "source": [
    "Latitude Vs Max Temperature (C) Plot"
   ]
  },
  {
   "cell_type": "code",
   "execution_count": 10,
   "metadata": {},
   "outputs": [
    {
     "data": {
      "image/png": "[encoded data removed]",
      "text/plain": [
       "<Figure size 360x288 with 1 Axes>"
      ]
     },
     "metadata": {
      "needs_background": "light"
     },
     "output_type": "display_data"
    }
   ],
   "source": [
    "plt.figure(figsize=(5,4))\n",
    "plt.scatter(weather_info[\"Lat\"], weather_info[\"Max Temp\"], color='g')\n",
    "plt.xlabel('Latitude')\n",
    "plt.ylabel('Max Temperature (C)')\n",
    "plt.title('Latitude Vs Max Temperature (C)')\n",
    "plt.savefig(\"output_data\\LatVsTemp.png\")\n",
    "plt.ylim(5,40)\n",
    "plt.grid()\n",
    "plt.show()"
   ]
  },
  {
   "cell_type": "markdown",
   "metadata": {},
   "source": [
    "Latitude Vs Humidity (%) Plot"
   ]
  },
  {
   "cell_type": "code",
   "execution_count": 11,
   "metadata": {},
   "outputs": [
    {
     "data": {
      "image/png": "[encoded data removed]",
      "text/plain": [
       "<Figure size 360x288 with 1 Axes>"
      ]
     },
     "metadata": {
      "needs_background": "light"
     },
     "output_type": "display_data"
    }
   ],
   "source": [
    "plt.figure(figsize=(5,4))\n",
    "plt.scatter(weather_info[\"Lat\"], weather_info[\"Humidity\"], color='g')\n",
    "plt.xlabel('Latitude')\n",
    "plt.ylabel('Humidity (%)')\n",
    "plt.title('Latitude Vs Humidity (%)')\n",
    "plt.savefig(\"output_data\\LatVsHum.png\")\n",
    "plt.grid()\n",
    "plt.show()\n"
   ]
  },
  {
   "cell_type": "markdown",
   "metadata": {},
   "source": [
    "Latitude Vs Cloudiness (%) Plot"
   ]
  },
  {
   "cell_type": "code",
   "execution_count": 12,
   "metadata": {},
   "outputs": [
    {
     "data": {
      "image/png": "[encoded data removed]",
      "text/plain": [
       "<Figure size 360x288 with 1 Axes>"
      ]
     },
     "metadata": {
      "needs_background": "light"
     },
     "output_type": "display_data"
    }
   ],
   "source": [
    "plt.figure(figsize=(5,4))\n",
    "plt.scatter(weather_info[\"Lat\"], weather_info[\"Cloudiness\"], color='g')\n",
    "plt.xlabel('Latitude')\n",
    "plt.ylabel('Cloudiness (%)')\n",
    "plt.title('Latitude Vs Cloudiness (%)')\n",
    "plt.savefig(\"output_data\\LatVsCld.png\")\n",
    "plt.grid()\n",
    "plt.show()"
   ]
  },
  {
   "cell_type": "markdown",
   "metadata": {},
   "source": [
    "Latitude Vs Wind Speed (mph) Plot"
   ]
  },
  {
   "cell_type": "code",
   "execution_count": 13,
   "metadata": {},
   "outputs": [
    {
     "data": {
      "image/png": "[encoded data removed]",
      "text/plain": [
       "<Figure size 360x288 with 1 Axes>"
      ]
     },
     "metadata": {
      "needs_background": "light"
     },
     "output_type": "display_data"
    }
   ],
   "source": [
    "plt.figure(figsize=(5,4))\n",
    "plt.xlabel('Latitude')\n",
    "plt.ylabel('Wind Speed (mph)')\n",
    "plt.title('Latitude Vs Wind Speed (mph)')\n",
    "plt.grid()\n",
    "plt.scatter(weather_info[\"Lat\"], weather_info[\"Wind Speed\"], color='g')\n",
    "plt.savefig(\"output_data\\LatVsWindSpeed.png\")\n",
    "plt.show()"
   ]
  },
  {
   "cell_type": "code",
   "execution_count": 14,
   "metadata": {},
   "outputs": [],
   "source": [
    "# Sorting the weather information into Northern and Southern Hemisphere sets\n",
    "\n",
    "N_hemi = weather_info.loc[weather_info[\"Lat\"] > 0]\n",
    "S_hemi = weather_info.loc[weather_info[\"Lat\"] <= 0]\n"
   ]
  },
  {
   "cell_type": "markdown",
   "metadata": {},
   "source": [
    "LINEAR REGRESSION"
   ]
  },
  {
   "cell_type": "markdown",
   "metadata": {},
   "source": [
    "Northern Hemisphere - Latitude Vs Max Temp (C) Linear Regression"
   ]
  },
  {
   "cell_type": "code",
   "execution_count": 16,
   "metadata": {},
   "outputs": [
    {
     "name": "stdout",
     "output_type": "stream",
     "text": [
      "The r-value is: -1.0\n"
     ]
    },
    {
     "data": {
      "image/png": "[encoded data removed]",
      "text/plain": [
       "<Figure size 360x288 with 1 Axes>"
      ]
     },
     "metadata": {
      "needs_background": "light"
     },
     "output_type": "display_data"
    }
   ],
   "source": [
    "plt.figure(figsize=(5,4))\n",
    "plt.scatter(N_hemi[\"Lat\"], N_hemi[\"Max Temp\"], color='r')\n",
    "plt.xlabel('Latitude')\n",
    "plt.ylabel('Max Temp (C)')\n",
    "plt.savefig(\"output_data\\NLatVsMaxTemp.png\")\n",
    "plt.grid()\n",
    "# Isolating relevant data columns then calculating regression and coeffecient values\n",
    "l = N_hemi.iloc[:, 1]\n",
    "t = N_hemi.iloc[:, 3]\n",
    "corr_coef = st.pearsonr(l, t)\n",
    "vc_slope, vc_int, vc_r, vc_p, vc_std_err = st.linregress(l, t)\n",
    "vc_fit = vc_slope * l + vc_int\n",
    "plt.plot(l,vc_fit,\"-\", color='b')\n",
    "print(f\"The r-value is: {corr_coef[0]}\")\n",
    "plt.show()"
   ]
  },
  {
   "cell_type": "markdown",
   "metadata": {},
   "source": [
    "Southern Hemisphere - Latitude Vs Max Temp (C) Linear Regression"
   ]
  },
  {
   "cell_type": "code",
   "execution_count": 17,
   "metadata": {},
   "outputs": [
    {
     "name": "stdout",
     "output_type": "stream",
     "text": [
      "The r-value is: 1.0\n"
     ]
    },
    {
     "data": {
      "image/png": "[encoded data removed]",
      "text/plain": [
       "<Figure size 360x288 with 1 Axes>"
      ]
     },
     "metadata": {
      "needs_background": "light"
     },
     "output_type": "display_data"
    }
   ],
   "source": [
    "plt.figure(figsize=(5,4))\n",
    "plt.scatter(S_hemi[\"Lat\"], S_hemi[\"Max Temp\"], color='r')\n",
    "plt.xlabel('Latitude')\n",
    "plt.ylabel('Max Temp (C)')\n",
    "plt.savefig(\"output_data\\SLatVsMaxTemp.png\")\n",
    "plt.grid()\n",
    "# Isolating relevant data columns then calculating regression and coeffecient values\n",
    "l = S_hemi.iloc[:, 1]\n",
    "t = S_hemi.iloc[:, 3]\n",
    "corr_coef = st.pearsonr(l, t)\n",
    "vc_slope, vc_int, vc_r, vc_p, vc_std_err = st.linregress(l, t)\n",
    "vc_fit = vc_slope * l + vc_int\n",
    "plt.plot(l,vc_fit,\"-\", color='b')\n",
    "print(f\"The r-value is: {corr_coef[0]}\")\n",
    "plt.show()"
   ]
  },
  {
   "cell_type": "markdown",
   "metadata": {},
   "source": [
    "Northern Hemisphere - Latitude Vs Humidity (%) Linear Regression"
   ]
  },
  {
   "cell_type": "code",
   "execution_count": 18,
   "metadata": {},
   "outputs": [
    {
     "name": "stdout",
     "output_type": "stream",
     "text": [
      "The r-value is: -1.0\n"
     ]
    },
    {
     "data": {
      "image/png": "[encoded data removed]",
      "text/plain": [
       "<Figure size 360x288 with 1 Axes>"
      ]
     },
     "metadata": {
      "needs_background": "light"
     },
     "output_type": "display_data"
    }
   ],
   "source": [
    "plt.figure(figsize=(5,4))\n",
    "plt.scatter(N_hemi[\"Lat\"], N_hemi[\"Humidity\"], color='r')\n",
    "plt.xlabel('Latitude')\n",
    "plt.ylabel('Humidity (%)')\n",
    "plt.savefig(\"output_data\\NLatVsHum.png\")\n",
    "plt.grid()\n",
    "# Isolating relevant data columns then calculating regression and coeffecient values\n",
    "l = N_hemi.iloc[:, 1]\n",
    "t = N_hemi.iloc[:, 4]\n",
    "corr_coef = st.pearsonr(l, t)\n",
    "vc_slope, vc_int, vc_r, vc_p, vc_std_err = st.linregress(l, t)\n",
    "vc_fit = vc_slope * l + vc_int\n",
    "plt.plot(l,vc_fit,\"-\", color='b')\n",
    "print(f\"The r-value is: {corr_coef[0]}\")\n",
    "plt.show()"
   ]
  },
  {
   "cell_type": "markdown",
   "metadata": {},
   "source": [
    "Southern Hemisphere - Latitude Vs Humidity (%) Linear Regression "
   ]
  },
  {
   "cell_type": "code",
   "execution_count": 19,
   "metadata": {},
   "outputs": [
    {
     "name": "stdout",
     "output_type": "stream",
     "text": [
      "The r-value is: -1.0\n"
     ]
    },
    {
     "data": {
      "image/png": "[encoded data removed]",
      "text/plain": [
       "<Figure size 360x288 with 1 Axes>"
      ]
     },
     "metadata": {
      "needs_background": "light"
     },
     "output_type": "display_data"
    }
   ],
   "source": [
    "plt.figure(figsize=(5,4))\n",
    "plt.scatter(S_hemi[\"Lat\"], S_hemi[\"Humidity\"], color='r')\n",
    "plt.xlabel('Latitude')\n",
    "plt.ylabel('Humidity (%)')\n",
    "plt.savefig(\"output_data\\SLatVsHum.png\")\n",
    "plt.grid()\n",
    "# Isolating relevant data columns then calculating regression and coeffecient values\n",
    "l = S_hemi.iloc[:, 1]\n",
    "t = S_hemi.iloc[:, 4]\n",
    "corr_coef = st.pearsonr(l, t)\n",
    "vc_slope, vc_int, vc_r, vc_p, vc_std_err = st.linregress(l, t)\n",
    "vc_fit = vc_slope * l + vc_int\n",
    "plt.plot(l,vc_fit,\"-\", color='b')\n",
    "print(f\"The r-value is: {corr_coef[0]}\")\n",
    "plt.show()"
   ]
  },
  {
   "cell_type": "markdown",
   "metadata": {},
   "source": [
    "Northern Hemisphere - Latitude Vs Cloudiness (%) Linear Regression"
   ]
  },
  {
   "cell_type": "code",
   "execution_count": 20,
   "metadata": {},
   "outputs": [
    {
     "name": "stdout",
     "output_type": "stream",
     "text": [
      "The r-value is: -1.0\n"
     ]
    },
    {
     "data": {
      "image/png": "[encoded data removed]",
      "text/plain": [
       "<Figure size 360x288 with 1 Axes>"
      ]
     },
     "metadata": {
      "needs_background": "light"
     },
     "output_type": "display_data"
    }
   ],
   "source": [
    "plt.figure(figsize=(5,4))\n",
    "plt.scatter(N_hemi[\"Lat\"], N_hemi[\"Cloudiness\"], color='r')\n",
    "plt.xlabel('Latitude')\n",
    "plt.ylabel('Cloudiness (%)')\n",
    "plt.savefig(\"output_data\\NLatVsCld.png\")\n",
    "plt.grid()\n",
    "# Isolating relevant data columns then calculating regression and coeffecient values\n",
    "l = N_hemi.iloc[:, 1]\n",
    "t = N_hemi.iloc[:, 5]\n",
    "corr_coef = st.pearsonr(l, t)\n",
    "vc_slope, vc_int, vc_r, vc_p, vc_std_err = st.linregress(l, t)\n",
    "vc_fit = vc_slope * l + vc_int\n",
    "plt.plot(l,vc_fit,\"-\", color='b')\n",
    "print(f\"The r-value is: {corr_coef[0]}\")\n",
    "plt.show()"
   ]
  },
  {
   "cell_type": "markdown",
   "metadata": {},
   "source": [
    " Southern Hemisphere - Latitude Vs Cloudiness (%) Linear Regression"
   ]
  },
  {
   "cell_type": "code",
   "execution_count": 21,
   "metadata": {},
   "outputs": [
    {
     "name": "stdout",
     "output_type": "stream",
     "text": [
      "The r-value is: nan\n"
     ]
    },
    {
     "name": "stderr",
     "output_type": "stream",
     "text": [
      "c:\\Users\\king3\\.conda\\envs\\bootcamp\\lib\\site-packages\\scipy\\stats\\stats.py:4023: PearsonRConstantInputWarning: An input array is constant; the correlation coefficient is not defined.\n",
      "  warnings.warn(PearsonRConstantInputWarning())\n"
     ]
    },
    {
     "data": {
      "image/png": "[encoded data removed]",
      "text/plain": [
       "<Figure size 360x288 with 1 Axes>"
      ]
     },
     "metadata": {
      "needs_background": "light"
     },
     "output_type": "display_data"
    }
   ],
   "source": [
    "plt.figure(figsize=(5,4))\n",
    "plt.scatter(S_hemi[\"Lat\"], S_hemi[\"Cloudiness\"], color='r')\n",
    "plt.xlabel('Latitude')\n",
    "plt.ylabel('Cloudiness (%)')\n",
    "plt.savefig(\"output_data\\SLatVsCld.png\")\n",
    "plt.grid()\n",
    "# Isolating relevant data columns then calculating regression and coeffecient values\n",
    "l = S_hemi.iloc[:, 1]\n",
    "t = S_hemi.iloc[:, 5]\n",
    "corr_coef = st.pearsonr(l, t)\n",
    "vc_slope, vc_int, vc_r, vc_p, vc_std_err = st.linregress(l, t)\n",
    "vc_fit = vc_slope * l + vc_int\n",
    "plt.plot(l,vc_fit,\"-\", color='b')\n",
    "print(f\"The r-value is: {corr_coef[0]}\")\n",
    "plt.show()"
   ]
  },
  {
   "cell_type": "markdown",
   "metadata": {},
   "source": [
    "Northern Hemisphere - Latitude Vs Wind Speed (mph) Linear Regression"
   ]
  },
  {
   "cell_type": "code",
   "execution_count": 22,
   "metadata": {},
   "outputs": [
    {
     "name": "stdout",
     "output_type": "stream",
     "text": [
      "The r-value is: 1.0\n"
     ]
    },
    {
     "data": {
      "image/png": "[encoded data removed]",
      "text/plain": [
       "<Figure size 360x288 with 1 Axes>"
      ]
     },
     "metadata": {
      "needs_background": "light"
     },
     "output_type": "display_data"
    }
   ],
   "source": [
    "plt.figure(figsize=(5,4))\n",
    "plt.scatter(N_hemi[\"Lat\"], N_hemi[\"Wind Speed\"], color='r')\n",
    "plt.xlabel('Latitude')\n",
    "plt.ylabel('Wind Speed (mph)')\n",
    "plt.savefig(\"output_data\\NLatVsWindSpeed.png\")\n",
    "plt.grid()\n",
    "# Isolating relevant data columns then calculating regression and coeffecient values\n",
    "l = N_hemi.iloc[:, 1]\n",
    "t = N_hemi.iloc[:, 6]\n",
    "corr_coef = st.pearsonr(l, t)\n",
    "vc_slope, vc_int, vc_r, vc_p, vc_std_err = st.linregress(l, t)\n",
    "vc_fit = vc_slope * l + vc_int\n",
    "plt.plot(l,vc_fit,\"-\", color='b')\n",
    "print(f\"The r-value is: {corr_coef[0]}\")\n",
    "plt.show()"
   ]
  },
  {
   "cell_type": "markdown",
   "metadata": {},
   "source": [
    "Southern Hemisphere - Latitude Vs Wind Speed (mph) Linear Regression"
   ]
  },
  {
   "cell_type": "code",
   "execution_count": 23,
   "metadata": {},
   "outputs": [
    {
     "name": "stdout",
     "output_type": "stream",
     "text": [
      "The r-value is: -1.0\n"
     ]
    },
    {
     "data": {
      "image/png": "[encoded data removed]",
      "text/plain": [
       "<Figure size 360x288 with 1 Axes>"
      ]
     },
     "metadata": {
      "needs_background": "light"
     },
     "output_type": "display_data"
    }
   ],
   "source": [
    "plt.figure(figsize=(5,4))\n",
    "plt.scatter(S_hemi[\"Lat\"], S_hemi[\"Wind Speed\"], color='r')\n",
    "plt.xlabel('Latitude')\n",
    "plt.ylabel('Wind Speed (mph)')\n",
    "plt.savefig(\"output_data\\SLatVsWindSpeed.png\")\n",
    "plt.grid()\n",
    "# Isolating relevant data columns then calculating regression and coeffecient values\n",
    "l = S_hemi.iloc[:, 1]\n",
    "t = S_hemi.iloc[:, 6]\n",
    "corr_coef = st.pearsonr(l, t)\n",
    "vc_slope, vc_int, vc_r, vc_p, vc_std_err = st.linregress(l, t)\n",
    "vc_fit = vc_slope * l + vc_int\n",
    "plt.plot(l,vc_fit,\"-\", color='b')\n",
    "print(f\"The r-value is: {corr_coef[0]}\")\n",
    "plt.show()"
   ]
  }
 ],
 "metadata": {
  "kernelspec": {
   "display_name": "Python 3.7.13 ('bootcamp')",
   "language": "python",
   "name": "python3"
  },
  "language_info": {
   "codemirror_mode": {
    "name": "ipython",
    "version": 3
   },
   "file_extension": ".py",
   "mimetype": "text/x-python",
   "name": "python",
   "nbconvert_exporter": "python",
   "pygments_lexer": "ipython3",
   "version": "3.7.13"
  },
  "latex_envs": {
   "LaTeX_envs_menu_present": true,
   "autoclose": false,
   "autocomplete": true,
   "bibliofile": "biblio.bib",
   "cite_by": "apalike",
   "current_citInitial": 1,
   "eqLabelWithNumbers": true,
   "eqNumInitial": 1,
   "hotkeys": {
    "equation": "Ctrl-E",
    "itemize": "Ctrl-I"
   },
   "labels_anchors": false,
   "latex_user_defs": false,
   "report_style_numbering": false,
   "user_envs_cfg": false
  },
  "vscode": {
   "interpreter": {
    "hash": "2236a0773a3e4c68aab6b25ee30a420128285aa7a29344b2cf7c5faae3931b9c"
   }
  }
 },
 "nbformat": 4,
 "nbformat_minor": 2
}
